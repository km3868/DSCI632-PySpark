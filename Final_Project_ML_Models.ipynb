{
  "cells": [
    {
      "cell_type": "markdown",
      "source": [
        "DSCI 632\n",
        "\n",
        "Summer 2022\n",
        "\n",
        "Final Project: PySpark ML Student Performance\n",
        "\n",
        "**Team: John Johnson, Katy Matulay, Justin Minnion**"
      ],
      "metadata": {
        "application/vnd.databricks.v1+cell": {
          "title": "",
          "showTitle": false,
          "inputWidgets": {},
          "nuid": "2c0ece0a-e346-40d1-9bdd-3098bfe0d492"
        },
        "id": "IbbM4BrLKn9n"
      }
    },
    {
      "cell_type": "code",
      "source": [
        "# Import Libraries for Databricks, note that PySpark is already pre-installed and instantiated\n",
        "from pyspark.sql.functions import isnan, when, count, col, mean, udf, UserDefinedFunction\n",
        "from pyspark.sql.types import StringType, IntegerType, DoubleType, FloatType\n",
        "\n",
        "#graphics\n",
        "import seaborn as sns\n",
        "import matplotlib.pyplot as plt\n",
        "\n",
        "#ML Libraries\n",
        "from pyspark.ml import Pipeline\n",
        "from pyspark.ml.feature import StringIndexer, OneHotEncoder, VectorAssembler\n",
        "from pyspark.ml.classification import LogisticRegression, RandomForestClassifier, NaiveBayes\n",
        "from pyspark.ml.evaluation import BinaryClassificationEvaluator\n",
        "from pyspark.mllib.evaluation import BinaryClassificationMetrics, MulticlassMetrics\n",
        "from pyspark.ml.tuning import CrossValidator, ParamGridBuilder\n",
        "import numpy as np\n",
        "\n",
        "# Additional import and setup will be necessary to run this notebook outside of databricks"
      ],
      "metadata": {
        "application/vnd.databricks.v1+cell": {
          "title": "",
          "showTitle": false,
          "inputWidgets": {},
          "nuid": "e5609168-573f-4274-9607-08426b857d12"
        },
        "id": "nYKteTaQKn9r"
      },
      "outputs": [],
      "execution_count": null
    },
    {
      "cell_type": "code",
      "source": [
        "#load dataset into DF1\n",
        "df1 = spark.read.format(\"csv\").option(\"header\", \"true\").option(\"inferSchema\",\"true\").load(\"dbfs:/FileStore/shared_uploads/km3868@drexel.edu/student_data.csv\")"
      ],
      "metadata": {
        "application/vnd.databricks.v1+cell": {
          "title": "",
          "showTitle": false,
          "inputWidgets": {},
          "nuid": "ea50856d-8f7d-4dec-a5cd-af6fb6835092"
        },
        "id": "_ErS5jePKn9s"
      },
      "outputs": [],
      "execution_count": null
    },
    {
      "cell_type": "code",
      "source": [
        "df1.show(1,truncate= True)"
      ],
      "metadata": {
        "application/vnd.databricks.v1+cell": {
          "title": "",
          "showTitle": false,
          "inputWidgets": {},
          "nuid": "5e07f52e-fe16-4266-902e-5be86f8ccd47"
        },
        "id": "tdGvnKeoKn9t",
        "outputId": "7534dadd-0806-4975-ef04-d2f26d3f17f3"
      },
      "outputs": [
        {
          "output_type": "display_data",
          "metadata": {
            "application/vnd.databricks.v1+output": {
              "datasetInfos": [],
              "data": "+------+---+---+-------+-------+-------+----+----+-------+-------+------+--------+----------+---------+--------+---------+------+----+----------+-------+------+--------+--------+------+--------+-----+----+----+------+--------+---+---+---+\n|school|sex|age|address|famsize|Pstatus|Medu|Fedu|   Mjob|   Fjob|reason|guardian|traveltime|studytime|failures|schoolsup|famsup|paid|activities|nursery|higher|internet|romantic|famrel|freetime|goout|Dalc|Walc|health|absences| G1| G2| G3|\n+------+---+---+-------+-------+-------+----+----+-------+-------+------+--------+----------+---------+--------+---------+------+----+----------+-------+------+--------+--------+------+--------+-----+----+----+------+--------+---+---+---+\n|    GP|  F| 18|      U|    GT3|      A|   4|   4|at_home|teacher|course|  mother|         2|        2|       0|      yes|    no|  no|        no|    yes|   yes|      no|      no|     4|       3|    4|   1|   1|     3|       6|  5|  6|  6|\n+------+---+---+-------+-------+-------+----+----+-------+-------+------+--------+----------+---------+--------+---------+------+----+----------+-------+------+--------+--------+------+--------+-----+----+----+------+--------+---+---+---+\nonly showing top 1 row\n\n",
              "removedWidgets": [],
              "addedWidgets": {},
              "metadata": {},
              "type": "ansi",
              "arguments": {}
            }
          },
          "data": {
            "text/plain": [
              "+------+---+---+-------+-------+-------+----+----+-------+-------+------+--------+----------+---------+--------+---------+------+----+----------+-------+------+--------+--------+------+--------+-----+----+----+------+--------+---+---+---+\n|school|sex|age|address|famsize|Pstatus|Medu|Fedu|   Mjob|   Fjob|reason|guardian|traveltime|studytime|failures|schoolsup|famsup|paid|activities|nursery|higher|internet|romantic|famrel|freetime|goout|Dalc|Walc|health|absences| G1| G2| G3|\n+------+---+---+-------+-------+-------+----+----+-------+-------+------+--------+----------+---------+--------+---------+------+----+----------+-------+------+--------+--------+------+--------+-----+----+----+------+--------+---+---+---+\n|    GP|  F| 18|      U|    GT3|      A|   4|   4|at_home|teacher|course|  mother|         2|        2|       0|      yes|    no|  no|        no|    yes|   yes|      no|      no|     4|       3|    4|   1|   1|     3|       6|  5|  6|  6|\n+------+---+---+-------+-------+-------+----+----+-------+-------+------+--------+----------+---------+--------+---------+------+----+----------+-------+------+--------+--------+------+--------+-----+----+----+------+--------+---+---+---+\nonly showing top 1 row\n\n"
            ]
          }
        }
      ],
      "execution_count": null
    },
    {
      "cell_type": "code",
      "source": [
        "# view dataframe ~10 columns at a time\n",
        "df1.select([this_col for this_col in df1.columns[:10]]).show(5)\n",
        "df1.select([this_col for this_col in df1.columns[10:20]]).show(5)\n",
        "df1.select([this_col for this_col in df1.columns[20:]]).show(5)"
      ],
      "metadata": {
        "application/vnd.databricks.v1+cell": {
          "title": "",
          "showTitle": false,
          "inputWidgets": {},
          "nuid": "ed72b69d-76f9-4f5a-9636-aaf1c7ac2439"
        },
        "id": "UTqNQpvkKn9u",
        "outputId": "59dd0b05-a958-4956-fa03-4d5a5fe5beef"
      },
      "outputs": [
        {
          "output_type": "display_data",
          "metadata": {
            "application/vnd.databricks.v1+output": {
              "datasetInfos": [],
              "data": "+------+---+---+-------+-------+-------+----+----+-------+--------+\n|school|sex|age|address|famsize|Pstatus|Medu|Fedu|   Mjob|    Fjob|\n+------+---+---+-------+-------+-------+----+----+-------+--------+\n|    GP|  F| 18|      U|    GT3|      A|   4|   4|at_home| teacher|\n|    GP|  F| 17|      U|    GT3|      T|   1|   1|at_home|   other|\n|    GP|  F| 15|      U|    LE3|      T|   1|   1|at_home|   other|\n|    GP|  F| 15|      U|    GT3|      T|   4|   2| health|services|\n|    GP|  F| 16|      U|    GT3|      T|   3|   3|  other|   other|\n+------+---+---+-------+-------+-------+----+----+-------+--------+\nonly showing top 5 rows\n\n+------+--------+----------+---------+--------+---------+------+----+----------+-------+\n|reason|guardian|traveltime|studytime|failures|schoolsup|famsup|paid|activities|nursery|\n+------+--------+----------+---------+--------+---------+------+----+----------+-------+\n|course|  mother|         2|        2|       0|      yes|    no|  no|        no|    yes|\n|course|  father|         1|        2|       0|       no|   yes|  no|        no|     no|\n| other|  mother|         1|        2|       3|      yes|    no| yes|        no|    yes|\n|  home|  mother|         1|        3|       0|       no|   yes| yes|       yes|    yes|\n|  home|  father|         1|        2|       0|       no|   yes| yes|        no|    yes|\n+------+--------+----------+---------+--------+---------+------+----+----------+-------+\nonly showing top 5 rows\n\n+------+--------+--------+------+--------+-----+----+----+------+--------+---+---+---+\n|higher|internet|romantic|famrel|freetime|goout|Dalc|Walc|health|absences| G1| G2| G3|\n+------+--------+--------+------+--------+-----+----+----+------+--------+---+---+---+\n|   yes|      no|      no|     4|       3|    4|   1|   1|     3|       6|  5|  6|  6|\n|   yes|     yes|      no|     5|       3|    3|   1|   1|     3|       4|  5|  5|  6|\n|   yes|     yes|      no|     4|       3|    2|   2|   3|     3|      10|  7|  8| 10|\n|   yes|     yes|     yes|     3|       2|    2|   1|   1|     5|       2| 15| 14| 15|\n|   yes|      no|      no|     4|       3|    2|   1|   2|     5|       4|  6| 10| 10|\n+------+--------+--------+------+--------+-----+----+----+------+--------+---+---+---+\nonly showing top 5 rows\n\n",
              "removedWidgets": [],
              "addedWidgets": {},
              "metadata": {},
              "type": "ansi",
              "arguments": {}
            }
          },
          "data": {
            "text/plain": [
              "+------+---+---+-------+-------+-------+----+----+-------+--------+\n|school|sex|age|address|famsize|Pstatus|Medu|Fedu|   Mjob|    Fjob|\n+------+---+---+-------+-------+-------+----+----+-------+--------+\n|    GP|  F| 18|      U|    GT3|      A|   4|   4|at_home| teacher|\n|    GP|  F| 17|      U|    GT3|      T|   1|   1|at_home|   other|\n|    GP|  F| 15|      U|    LE3|      T|   1|   1|at_home|   other|\n|    GP|  F| 15|      U|    GT3|      T|   4|   2| health|services|\n|    GP|  F| 16|      U|    GT3|      T|   3|   3|  other|   other|\n+------+---+---+-------+-------+-------+----+----+-------+--------+\nonly showing top 5 rows\n\n+------+--------+----------+---------+--------+---------+------+----+----------+-------+\n|reason|guardian|traveltime|studytime|failures|schoolsup|famsup|paid|activities|nursery|\n+------+--------+----------+---------+--------+---------+------+----+----------+-------+\n|course|  mother|         2|        2|       0|      yes|    no|  no|        no|    yes|\n|course|  father|         1|        2|       0|       no|   yes|  no|        no|     no|\n| other|  mother|         1|        2|       3|      yes|    no| yes|        no|    yes|\n|  home|  mother|         1|        3|       0|       no|   yes| yes|       yes|    yes|\n|  home|  father|         1|        2|       0|       no|   yes| yes|        no|    yes|\n+------+--------+----------+---------+--------+---------+------+----+----------+-------+\nonly showing top 5 rows\n\n+------+--------+--------+------+--------+-----+----+----+------+--------+---+---+---+\n|higher|internet|romantic|famrel|freetime|goout|Dalc|Walc|health|absences| G1| G2| G3|\n+------+--------+--------+------+--------+-----+----+----+------+--------+---+---+---+\n|   yes|      no|      no|     4|       3|    4|   1|   1|     3|       6|  5|  6|  6|\n|   yes|     yes|      no|     5|       3|    3|   1|   1|     3|       4|  5|  5|  6|\n|   yes|     yes|      no|     4|       3|    2|   2|   3|     3|      10|  7|  8| 10|\n|   yes|     yes|     yes|     3|       2|    2|   1|   1|     5|       2| 15| 14| 15|\n|   yes|      no|      no|     4|       3|    2|   1|   2|     5|       4|  6| 10| 10|\n+------+--------+--------+------+--------+-----+----+----+------+--------+---+---+---+\nonly showing top 5 rows\n\n"
            ]
          }
        }
      ],
      "execution_count": null
    },
    {
      "cell_type": "markdown",
      "source": [
        "##Data Prep"
      ],
      "metadata": {
        "application/vnd.databricks.v1+cell": {
          "title": "",
          "showTitle": false,
          "inputWidgets": {},
          "nuid": "26b45bf6-44c8-4b65-badf-e8b56fe04132"
        },
        "id": "aW_wUB0cKn9u"
      }
    },
    {
      "cell_type": "code",
      "source": [
        "#Convert G1, G2, G3 to binary for Pass/Fail  P = 1, F = 0\n",
        "#Formula if G1||G2||G3 >= 10 --> P (1)  ELSE F (0)\n",
        "grade_UDF = udf(lambda g: 1.0 if g >= 10 else 0.0, DoubleType())\n",
        "#cols = ['G1','G2','G3']\n",
        "\n",
        "df1_binaryG3 = df1.withColumn('G1_PF', grade_UDF(df1.G1)).withColumn('G2_PF', grade_UDF(df1.G2)).withColumn('G3_PF', grade_UDF(df1.G3))\n",
        "df1_binaryG3.select('G1','G1_PF','G2','G2_PF','G3','G3_PF').show(3)"
      ],
      "metadata": {
        "application/vnd.databricks.v1+cell": {
          "title": "",
          "showTitle": false,
          "inputWidgets": {},
          "nuid": "f81bc914-0479-4ac0-8501-996966aa91a0"
        },
        "id": "4xm5cOhtKn9v",
        "outputId": "6b772229-854b-4d97-c558-5d6e046bc144"
      },
      "outputs": [
        {
          "output_type": "display_data",
          "metadata": {
            "application/vnd.databricks.v1+output": {
              "datasetInfos": [],
              "data": "+---+-----+---+-----+---+-----+\n| G1|G1_PF| G2|G2_PF| G3|G3_PF|\n+---+-----+---+-----+---+-----+\n|  5|  0.0|  6|  0.0|  6|  0.0|\n|  5|  0.0|  5|  0.0|  6|  0.0|\n|  7|  0.0|  8|  0.0| 10|  1.0|\n+---+-----+---+-----+---+-----+\nonly showing top 3 rows\n\n",
              "removedWidgets": [],
              "addedWidgets": {},
              "metadata": {},
              "type": "ansi",
              "arguments": {}
            }
          },
          "data": {
            "text/plain": [
              "+---+-----+---+-----+---+-----+\n| G1|G1_PF| G2|G2_PF| G3|G3_PF|\n+---+-----+---+-----+---+-----+\n|  5|  0.0|  6|  0.0|  6|  0.0|\n|  5|  0.0|  5|  0.0|  6|  0.0|\n|  7|  0.0|  8|  0.0| 10|  1.0|\n+---+-----+---+-----+---+-----+\nonly showing top 3 rows\n\n"
            ]
          }
        }
      ],
      "execution_count": null
    },
    {
      "cell_type": "code",
      "source": [
        "#Examine if the dataset is balanced\n",
        "df1_binaryG3.groupBy('G3_PF').count().show()"
      ],
      "metadata": {
        "application/vnd.databricks.v1+cell": {
          "title": "",
          "showTitle": false,
          "inputWidgets": {},
          "nuid": "ff8839e8-092b-4e25-94e1-ea29706fb12e"
        },
        "id": "-Thrye60Kn9v",
        "outputId": "c8e0744a-c10a-4808-b883-544dcb19473e"
      },
      "outputs": [
        {
          "output_type": "display_data",
          "metadata": {
            "application/vnd.databricks.v1+output": {
              "datasetInfos": [],
              "data": "+-----+-----+\n|G3_PF|count|\n+-----+-----+\n|  0.0|  130|\n|  1.0|  265|\n+-----+-----+\n\n",
              "removedWidgets": [],
              "addedWidgets": {},
              "metadata": {},
              "type": "ansi",
              "arguments": {}
            }
          },
          "data": {
            "text/plain": [
              "+-----+-----+\n|G3_PF|count|\n+-----+-----+\n|  0.0|  130|\n|  1.0|  265|\n+-----+-----+\n\n"
            ]
          }
        }
      ],
      "execution_count": null
    },
    {
      "cell_type": "markdown",
      "source": [
        "### Normalize Discrete Variables"
      ],
      "metadata": {
        "application/vnd.databricks.v1+cell": {
          "title": "",
          "showTitle": false,
          "inputWidgets": {},
          "nuid": "d487e014-0428-4706-b6de-6bd6f656e5fb"
        },
        "id": "M5DkoPBxKn9w"
      }
    },
    {
      "cell_type": "code",
      "source": [
        "##normalize discrete variables  (needs done) *absences\n",
        "\n",
        "avg_abs_array = df1_binaryG3.select(mean('absences')).first()\n",
        "avg_abs = avg_abs_array[0]\n",
        "print(\"Mean Absence\",avg_abs)\n",
        "\n",
        "#create broadcast variable to store avg absences\n",
        "avg_abs_var = sc.broadcast(avg_abs)\n",
        "\n",
        "#create UDF to normalize absences (subtract mean from absences)\n",
        "normUDF = udf(lambda x: round(x- avg_abs_var.value,2), DoubleType())\n",
        "\n",
        "#apply UDF to absences\n",
        "df2 = df1_binaryG3.withColumn('absences_norm', normUDF(df1_binaryG3.absences))\n",
        "df2.show(2)"
      ],
      "metadata": {
        "application/vnd.databricks.v1+cell": {
          "title": "",
          "showTitle": false,
          "inputWidgets": {},
          "nuid": "9da9b0cb-e8c3-455c-a5c2-2a17be73be25"
        },
        "id": "A0zh7lTiKn9w",
        "outputId": "6b3da086-c4d9-4e9d-e5ae-8603fbd66193"
      },
      "outputs": [
        {
          "output_type": "display_data",
          "metadata": {
            "application/vnd.databricks.v1+output": {
              "datasetInfos": [],
              "data": "Mean Absence 5.708860759493671\n+------+---+---+-------+-------+-------+----+----+-------+-------+------+--------+----------+---------+--------+---------+------+----+----------+-------+------+--------+--------+------+--------+-----+----+----+------+--------+---+---+---+-----+-----+-----+-------------+\n|school|sex|age|address|famsize|Pstatus|Medu|Fedu|   Mjob|   Fjob|reason|guardian|traveltime|studytime|failures|schoolsup|famsup|paid|activities|nursery|higher|internet|romantic|famrel|freetime|goout|Dalc|Walc|health|absences| G1| G2| G3|G1_PF|G2_PF|G3_PF|absences_norm|\n+------+---+---+-------+-------+-------+----+----+-------+-------+------+--------+----------+---------+--------+---------+------+----+----------+-------+------+--------+--------+------+--------+-----+----+----+------+--------+---+---+---+-----+-----+-----+-------------+\n|    GP|  F| 18|      U|    GT3|      A|   4|   4|at_home|teacher|course|  mother|         2|        2|       0|      yes|    no|  no|        no|    yes|   yes|      no|      no|     4|       3|    4|   1|   1|     3|       6|  5|  6|  6|  0.0|  0.0|  0.0|         0.29|\n|    GP|  F| 17|      U|    GT3|      T|   1|   1|at_home|  other|course|  father|         1|        2|       0|       no|   yes|  no|        no|     no|   yes|     yes|      no|     5|       3|    3|   1|   1|     3|       4|  5|  5|  6|  0.0|  0.0|  0.0|        -1.71|\n+------+---+---+-------+-------+-------+----+----+-------+-------+------+--------+----------+---------+--------+---------+------+----+----------+-------+------+--------+--------+------+--------+-----+----+----+------+--------+---+---+---+-----+-----+-----+-------------+\nonly showing top 2 rows\n\n",
              "removedWidgets": [],
              "addedWidgets": {},
              "metadata": {},
              "type": "ansi",
              "arguments": {}
            }
          },
          "data": {
            "text/plain": [
              "Mean Absence 5.708860759493671\n+------+---+---+-------+-------+-------+----+----+-------+-------+------+--------+----------+---------+--------+---------+------+----+----------+-------+------+--------+--------+------+--------+-----+----+----+------+--------+---+---+---+-----+-----+-----+-------------+\n|school|sex|age|address|famsize|Pstatus|Medu|Fedu|   Mjob|   Fjob|reason|guardian|traveltime|studytime|failures|schoolsup|famsup|paid|activities|nursery|higher|internet|romantic|famrel|freetime|goout|Dalc|Walc|health|absences| G1| G2| G3|G1_PF|G2_PF|G3_PF|absences_norm|\n+------+---+---+-------+-------+-------+----+----+-------+-------+------+--------+----------+---------+--------+---------+------+----+----------+-------+------+--------+--------+------+--------+-----+----+----+------+--------+---+---+---+-----+-----+-----+-------------+\n|    GP|  F| 18|      U|    GT3|      A|   4|   4|at_home|teacher|course|  mother|         2|        2|       0|      yes|    no|  no|        no|    yes|   yes|      no|      no|     4|       3|    4|   1|   1|     3|       6|  5|  6|  6|  0.0|  0.0|  0.0|         0.29|\n|    GP|  F| 17|      U|    GT3|      T|   1|   1|at_home|  other|course|  father|         1|        2|       0|       no|   yes|  no|        no|     no|   yes|     yes|      no|     5|       3|    3|   1|   1|     3|       4|  5|  5|  6|  0.0|  0.0|  0.0|        -1.71|\n+------+---+---+-------+-------+-------+----+----+-------+-------+------+--------+----------+---------+--------+---------+------+----+----------+-------+------+--------+--------+------+--------+-----+----+----+------+--------+---+---+---+-----+-----+-----+-------------+\nonly showing top 2 rows\n\n"
            ]
          }
        }
      ],
      "execution_count": null
    },
    {
      "cell_type": "code",
      "source": [
        "#visualize absences distribution after normalization\n",
        "abs_df = df2.select('absences_norm').toPandas()\n",
        "\n",
        "#normalized distribution\n",
        "sns.boxplot(x='absences_norm', data= abs_df)"
      ],
      "metadata": {
        "application/vnd.databricks.v1+cell": {
          "title": "",
          "showTitle": false,
          "inputWidgets": {},
          "nuid": "a1c3c0a7-8a9d-4439-9739-b466ba84ca68"
        },
        "id": "Sdu9dwn-Kn9x",
        "outputId": "db6e6d56-7550-4e5c-9779-86ff8d8e0cb9"
      },
      "outputs": [
        {
          "output_type": "display_data",
          "metadata": {
            "application/vnd.databricks.v1+output": {
              "datasetInfos": [],
              "data": "Out[50]: <AxesSubplot:xlabel='absences_norm'>",
              "removedWidgets": [],
              "addedWidgets": {},
              "metadata": {},
              "type": "ansi",
              "arguments": {}
            }
          },
          "data": {
            "text/plain": [
              "Out[50]: <AxesSubplot:xlabel='absences_norm'>"
            ]
          }
        },
        {
          "output_type": "display_data",
          "metadata": {
            "application/vnd.databricks.v1+output": {
              "datasetInfos": [],
              "data": "data:image/png;base64,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\n",
              "removedWidgets": [],
              "addedWidgets": {},
              "metadata": {},
              "type": "image",
              "arguments": {}
            }
          },
          "data": {
            "image/png": "[encoded data removed]"
          }
        }
      ],
      "execution_count": null
    },
    {
      "cell_type": "code",
      "source": [
        "#Determine which columns are strings that need StringIndexer, which are Integer but categorical and need OneHotEncoder, and which can remain as integer\n",
        "#df2.columns\n",
        "df2.dtypes\n"
      ],
      "metadata": {
        "application/vnd.databricks.v1+cell": {
          "title": "",
          "showTitle": false,
          "inputWidgets": {},
          "nuid": "2c917527-4346-4747-89b4-3cbe8ca831f5"
        },
        "id": "PgiHMP7PKn9x",
        "outputId": "ab1391ae-29eb-4159-ebf6-18777606c5a5"
      },
      "outputs": [
        {
          "output_type": "display_data",
          "metadata": {
            "application/vnd.databricks.v1+output": {
              "datasetInfos": [],
              "data": "Out[51]: [('school', 'string'),\n ('sex', 'string'),\n ('age', 'int'),\n ('address', 'string'),\n ('famsize', 'string'),\n ('Pstatus', 'string'),\n ('Medu', 'int'),\n ('Fedu', 'int'),\n ('Mjob', 'string'),\n ('Fjob', 'string'),\n ('reason', 'string'),\n ('guardian', 'string'),\n ('traveltime', 'int'),\n ('studytime', 'int'),\n ('failures', 'int'),\n ('schoolsup', 'string'),\n ('famsup', 'string'),\n ('paid', 'string'),\n ('activities', 'string'),\n ('nursery', 'string'),\n ('higher', 'string'),\n ('internet', 'string'),\n ('romantic', 'string'),\n ('famrel', 'int'),\n ('freetime', 'int'),\n ('goout', 'int'),\n ('Dalc', 'int'),\n ('Walc', 'int'),\n ('health', 'int'),\n ('absences', 'int'),\n ('G1', 'int'),\n ('G2', 'int'),\n ('G3', 'int'),\n ('G1_PF', 'double'),\n ('G2_PF', 'double'),\n ('G3_PF', 'double'),\n ('absences_norm', 'double')]",
              "removedWidgets": [],
              "addedWidgets": {},
              "metadata": {},
              "type": "ansi",
              "arguments": {}
            }
          },
          "data": {
            "text/plain": [
              "Out[51]: [('school', 'string'),\n ('sex', 'string'),\n ('age', 'int'),\n ('address', 'string'),\n ('famsize', 'string'),\n ('Pstatus', 'string'),\n ('Medu', 'int'),\n ('Fedu', 'int'),\n ('Mjob', 'string'),\n ('Fjob', 'string'),\n ('reason', 'string'),\n ('guardian', 'string'),\n ('traveltime', 'int'),\n ('studytime', 'int'),\n ('failures', 'int'),\n ('schoolsup', 'string'),\n ('famsup', 'string'),\n ('paid', 'string'),\n ('activities', 'string'),\n ('nursery', 'string'),\n ('higher', 'string'),\n ('internet', 'string'),\n ('romantic', 'string'),\n ('famrel', 'int'),\n ('freetime', 'int'),\n ('goout', 'int'),\n ('Dalc', 'int'),\n ('Walc', 'int'),\n ('health', 'int'),\n ('absences', 'int'),\n ('G1', 'int'),\n ('G2', 'int'),\n ('G3', 'int'),\n ('G1_PF', 'double'),\n ('G2_PF', 'double'),\n ('G3_PF', 'double'),\n ('absences_norm', 'double')]"
            ]
          }
        }
      ],
      "execution_count": null
    },
    {
      "cell_type": "markdown",
      "source": [
        "### Encoding Model 1 Parameters:\n",
        "All Columns except G1, G2 to predict G3"
      ],
      "metadata": {
        "application/vnd.databricks.v1+cell": {
          "title": "",
          "showTitle": false,
          "inputWidgets": {},
          "nuid": "7f5c0807-c9f4-46cf-a080-63ff05633ba3"
        },
        "id": "H_ek-nvRKn9y"
      }
    },
    {
      "cell_type": "code",
      "source": [
        "#TEST CASE CONVERTING ONE COLUMN STRINGINDEXER \n",
        "string_index = StringIndexer(inputCol='Mjob', outputCol='Mjob_index').fit(df2)\n",
        "df2_test_index = string_index.transform(df2)\n",
        "df2_test_index.select('Mjob','Mjob_index').show(4)"
      ],
      "metadata": {
        "application/vnd.databricks.v1+cell": {
          "title": "",
          "showTitle": false,
          "inputWidgets": {},
          "nuid": "0db24310-a8e8-4eda-84c6-ac117f117dd0"
        },
        "id": "LT8PsLrzKn9y",
        "outputId": "60f18d9f-ce0b-4978-937e-4af03736aacd"
      },
      "outputs": [
        {
          "output_type": "display_data",
          "metadata": {
            "application/vnd.databricks.v1+output": {
              "datasetInfos": [],
              "data": "+-------+----------+\n|   Mjob|Mjob_index|\n+-------+----------+\n|at_home|       2.0|\n|at_home|       2.0|\n|at_home|       2.0|\n| health|       4.0|\n+-------+----------+\nonly showing top 4 rows\n\n",
              "removedWidgets": [],
              "addedWidgets": {},
              "metadata": {},
              "type": "ansi",
              "arguments": {}
            }
          },
          "data": {
            "text/plain": [
              "+-------+----------+\n|   Mjob|Mjob_index|\n+-------+----------+\n|at_home|       2.0|\n|at_home|       2.0|\n|at_home|       2.0|\n| health|       4.0|\n+-------+----------+\nonly showing top 4 rows\n\n"
            ]
          }
        }
      ],
      "execution_count": null
    },
    {
      "cell_type": "code",
      "source": [
        "#TEST CASE CONVERTING ONE COLUMN ONEHOTENCODER \n",
        "OH_index = OneHotEncoder(inputCols=['Mjob_index'], outputCols = [\"Mjob_num\"]).fit(df2_test_index)\n",
        "df2_test_index_OH = OH_index.transform(df2_test_index)\n",
        "df2_test_index_OH.select('Mjob','Mjob_index','Mjob_num').show(2)"
      ],
      "metadata": {
        "application/vnd.databricks.v1+cell": {
          "title": "",
          "showTitle": false,
          "inputWidgets": {},
          "nuid": "11639b80-d4e3-4173-80be-ef743b153e61"
        },
        "id": "GgidFYtGKn9y",
        "outputId": "4631b9f0-337d-4a2b-c29b-619a96b60cac"
      },
      "outputs": [
        {
          "output_type": "display_data",
          "metadata": {
            "application/vnd.databricks.v1+output": {
              "datasetInfos": [],
              "data": "+-------+----------+-------------+\n|   Mjob|Mjob_index|     Mjob_num|\n+-------+----------+-------------+\n|at_home|       2.0|(4,[2],[1.0])|\n|at_home|       2.0|(4,[2],[1.0])|\n+-------+----------+-------------+\nonly showing top 2 rows\n\n",
              "removedWidgets": [],
              "addedWidgets": {},
              "metadata": {},
              "type": "ansi",
              "arguments": {}
            }
          },
          "data": {
            "text/plain": [
              "+-------+----------+-------------+\n|   Mjob|Mjob_index|     Mjob_num|\n+-------+----------+-------------+\n|at_home|       2.0|(4,[2],[1.0])|\n|at_home|       2.0|(4,[2],[1.0])|\n+-------+----------+-------------+\nonly showing top 2 rows\n\n"
            ]
          }
        }
      ],
      "execution_count": null
    },
    {
      "cell_type": "code",
      "source": [
        "#convert string variables to binary Integers using StringIndexer and Pipeline\n",
        "#STRING VARIABLES FOR STRING INDEXER\n",
        "indexer_cols = ['school','sex','address','famsize','Pstatus','Mjob','Fjob','reason','guardian','schoolsup',\n",
        "                'famsup','paid','activities','nursery','higher','internet','romantic']\n",
        "\n",
        "indexers = [StringIndexer(inputCol=col, outputCol = col+\"_index\").fit(df2) for col in indexer_cols]\n",
        "\n",
        "pipeline = Pipeline(stages = indexers)\n",
        "df2_transformed = pipeline.fit(df2).transform(df2)\n"
      ],
      "metadata": {
        "application/vnd.databricks.v1+cell": {
          "title": "",
          "showTitle": false,
          "inputWidgets": {},
          "nuid": "f14a0e39-010b-4b7c-8ea1-25e7e2441ab2"
        },
        "id": "fUgDdAn6Kn9z"
      },
      "outputs": [],
      "execution_count": null
    },
    {
      "cell_type": "code",
      "source": [
        "#validate that columns were transformed correctly\n",
        "df2_transformed.select('school','school_index','sex','sex_index','Mjob','Mjob_index').show(4)\n"
      ],
      "metadata": {
        "application/vnd.databricks.v1+cell": {
          "title": "",
          "showTitle": false,
          "inputWidgets": {},
          "nuid": "dd645e94-f6a7-4444-b1dc-003ec95e906f"
        },
        "id": "JZtr2WbEKn9z",
        "outputId": "fd849685-fe57-494a-a81c-c96f45b77fc0"
      },
      "outputs": [
        {
          "output_type": "display_data",
          "metadata": {
            "application/vnd.databricks.v1+output": {
              "datasetInfos": [],
              "data": "+------+------------+---+---------+-------+----------+\n|school|school_index|sex|sex_index|   Mjob|Mjob_index|\n+------+------------+---+---------+-------+----------+\n|    GP|         0.0|  F|      0.0|at_home|       2.0|\n|    GP|         0.0|  F|      0.0|at_home|       2.0|\n|    GP|         0.0|  F|      0.0|at_home|       2.0|\n|    GP|         0.0|  F|      0.0| health|       4.0|\n+------+------------+---+---------+-------+----------+\nonly showing top 4 rows\n\n",
              "removedWidgets": [],
              "addedWidgets": {},
              "metadata": {},
              "type": "ansi",
              "arguments": {}
            }
          },
          "data": {
            "text/plain": [
              "+------+------------+---+---------+-------+----------+\n|school|school_index|sex|sex_index|   Mjob|Mjob_index|\n+------+------------+---+---------+-------+----------+\n|    GP|         0.0|  F|      0.0|at_home|       2.0|\n|    GP|         0.0|  F|      0.0|at_home|       2.0|\n|    GP|         0.0|  F|      0.0|at_home|       2.0|\n|    GP|         0.0|  F|      0.0| health|       4.0|\n+------+------------+---+---------+-------+----------+\nonly showing top 4 rows\n\n"
            ]
          }
        }
      ],
      "execution_count": null
    },
    {
      "cell_type": "code",
      "source": [
        "#COLUMN LISTS FOR ONEHOTENCODER AND FEATURE VECTOR\n",
        "OH_cols = ['Medu','Fedu','Mjob_index','Fjob_index','reason_index','guardian_index','traveltime','studytime','failures','famrel','freetime','goout','Dalc','Walc','health']\n",
        "\n",
        "feature_cols = ['school_index',\n",
        " 'sex_index',\n",
        " 'address_index',\n",
        " 'famsize_index',\n",
        " 'Pstatus_index',\n",
        " 'schoolsup_index',\n",
        " 'famsup_index',\n",
        " 'paid_index',\n",
        " 'activities_index',\n",
        " 'nursery_index',\n",
        " 'higher_index',\n",
        " 'internet_index',\n",
        " 'romantic_index',\n",
        "  'Medu_Num',\n",
        " 'Fedu_Num',\n",
        " 'Mjob_index_Num',\n",
        " 'Fjob_index_Num',\n",
        " 'reason_index_Num',\n",
        " 'guardian_index_Num',\n",
        " 'traveltime_Num',\n",
        " 'studytime_Num',\n",
        " 'failures_Num',\n",
        " 'famrel_Num',\n",
        " 'freetime_Num',\n",
        " 'goout_Num',\n",
        " 'Dalc_Num',\n",
        " 'Walc_Num',\n",
        " 'health_Num',\n",
        " 'age',\n",
        " 'absences']\n",
        "\n",
        "print(len(feature_cols))"
      ],
      "metadata": {
        "application/vnd.databricks.v1+cell": {
          "title": "",
          "showTitle": false,
          "inputWidgets": {},
          "nuid": "cf125e78-ef9f-4932-a523-f1376e0bdfa9"
        },
        "id": "L8LGDbJFKn9z",
        "outputId": "221bf38a-5067-4c7b-b170-ee0b1170a3fa"
      },
      "outputs": [
        {
          "output_type": "display_data",
          "metadata": {
            "application/vnd.databricks.v1+output": {
              "datasetInfos": [],
              "data": "30\n",
              "removedWidgets": [],
              "addedWidgets": {},
              "metadata": {},
              "type": "ansi",
              "arguments": {}
            }
          },
          "data": {
            "text/plain": [
              "30\n"
            ]
          }
        }
      ],
      "execution_count": null
    },
    {
      "cell_type": "code",
      "source": [
        "#CATEGORICAL/ORDINAL VARIABLES FOR ONEHOTENCODER\n",
        "encoders = [OneHotEncoder(inputCols = [col], outputCols = [col+\"_Num\"]).fit(df2_transformed) for col in OH_cols]\n",
        "\n",
        "#Vector Assembler\n",
        "encoders.append(VectorAssembler(inputCols=feature_cols, outputCol='features'))\n",
        "\n",
        "#Assemble pipeline\n",
        "pipeline = Pipeline(stages = encoders)\n",
        "df3 = pipeline.fit(df2_transformed).transform(df2_transformed)"
      ],
      "metadata": {
        "application/vnd.databricks.v1+cell": {
          "title": "",
          "showTitle": false,
          "inputWidgets": {},
          "nuid": "6aad06ea-b963-480c-8d02-3a42ea8e7176"
        },
        "id": "hHnOeFQpKn90"
      },
      "outputs": [],
      "execution_count": null
    },
    {
      "cell_type": "code",
      "source": [
        "#validate that features column has been assembled\n",
        "df3.select('features').show(4, truncate = False)"
      ],
      "metadata": {
        "application/vnd.databricks.v1+cell": {
          "title": "",
          "showTitle": false,
          "inputWidgets": {},
          "nuid": "f11d2286-2cb7-45a3-a58f-8a4c0f01f230"
        },
        "id": "1pM-WtflKn90",
        "outputId": "55827cf0-8f07-46e9-c4db-c68ac86e8cc3"
      },
      "outputs": [
        {
          "output_type": "display_data",
          "metadata": {
            "application/vnd.databricks.v1+output": {
              "datasetInfos": [],
              "data": "+-------------------------------------------------------------------------------------------------------------------------------------------------+\n|features                                                                                                                                         |\n+-------------------------------------------------------------------------------------------------------------------------------------------------+\n|(77,[4,5,6,8,11,23,27,29,32,36,40,42,49,53,59,61,66,73,75,76],[1.0,1.0,1.0,1.0,1.0,1.0,1.0,1.0,1.0,1.0,1.0,1.0,1.0,1.0,1.0,1.0,1.0,1.0,18.0,6.0])|\n|(77,[8,9,14,18,23,25,29,33,35,40,42,53,58,61,66,73,75,76],[1.0,1.0,1.0,1.0,1.0,1.0,1.0,1.0,1.0,1.0,1.0,1.0,1.0,1.0,1.0,1.0,17.0,4.0])            |\n|(77,[3,5,6,7,8,14,18,23,25,32,35,40,49,53,57,62,68,73,75,76],[1.0,1.0,1.0,1.0,1.0,1.0,1.0,1.0,1.0,1.0,1.0,1.0,1.0,1.0,1.0,1.0,1.0,1.0,15.0,10.0])|\n|(77,[7,12,19,26,30,32,35,41,42,48,52,57,61,66,75,76],[1.0,1.0,1.0,1.0,1.0,1.0,1.0,1.0,1.0,1.0,1.0,1.0,1.0,1.0,15.0,2.0])                         |\n+-------------------------------------------------------------------------------------------------------------------------------------------------+\nonly showing top 4 rows\n\n",
              "removedWidgets": [],
              "addedWidgets": {},
              "metadata": {},
              "type": "ansi",
              "arguments": {}
            }
          },
          "data": {
            "text/plain": [
              "+-------------------------------------------------------------------------------------------------------------------------------------------------+\n|features                                                                                                                                         |\n+-------------------------------------------------------------------------------------------------------------------------------------------------+\n|(77,[4,5,6,8,11,23,27,29,32,36,40,42,49,53,59,61,66,73,75,76],[1.0,1.0,1.0,1.0,1.0,1.0,1.0,1.0,1.0,1.0,1.0,1.0,1.0,1.0,1.0,1.0,1.0,1.0,18.0,6.0])|\n|(77,[8,9,14,18,23,25,29,33,35,40,42,53,58,61,66,73,75,76],[1.0,1.0,1.0,1.0,1.0,1.0,1.0,1.0,1.0,1.0,1.0,1.0,1.0,1.0,1.0,1.0,17.0,4.0])            |\n|(77,[3,5,6,7,8,14,18,23,25,32,35,40,49,53,57,62,68,73,75,76],[1.0,1.0,1.0,1.0,1.0,1.0,1.0,1.0,1.0,1.0,1.0,1.0,1.0,1.0,1.0,1.0,1.0,1.0,15.0,10.0])|\n|(77,[7,12,19,26,30,32,35,41,42,48,52,57,61,66,75,76],[1.0,1.0,1.0,1.0,1.0,1.0,1.0,1.0,1.0,1.0,1.0,1.0,1.0,1.0,15.0,2.0])                         |\n+-------------------------------------------------------------------------------------------------------------------------------------------------+\nonly showing top 4 rows\n\n"
            ]
          }
        }
      ],
      "execution_count": null
    },
    {
      "cell_type": "code",
      "source": [
        "#validate conversions \n",
        "df3.select('traveltime_Num','traveltime','sex_index','guardian_index','guardian_index_num').show(2)"
      ],
      "metadata": {
        "application/vnd.databricks.v1+cell": {
          "title": "",
          "showTitle": false,
          "inputWidgets": {},
          "nuid": "623f5a9b-c336-4ce0-9f42-a262486d4fde"
        },
        "id": "0-YKHGYbKn90",
        "outputId": "7e1a739c-ce65-48b2-a586-a94916bc98fb"
      },
      "outputs": [
        {
          "output_type": "display_data",
          "metadata": {
            "application/vnd.databricks.v1+output": {
              "datasetInfos": [],
              "data": "+--------------+----------+---------+--------------+------------------+\n|traveltime_Num|traveltime|sex_index|guardian_index|guardian_index_num|\n+--------------+----------+---------+--------------+------------------+\n| (4,[2],[1.0])|         2|      0.0|           0.0|     (2,[0],[1.0])|\n| (4,[1],[1.0])|         1|      0.0|           1.0|     (2,[1],[1.0])|\n+--------------+----------+---------+--------------+------------------+\nonly showing top 2 rows\n\n",
              "removedWidgets": [],
              "addedWidgets": {},
              "metadata": {},
              "type": "ansi",
              "arguments": {}
            }
          },
          "data": {
            "text/plain": [
              "+--------------+----------+---------+--------------+------------------+\n|traveltime_Num|traveltime|sex_index|guardian_index|guardian_index_num|\n+--------------+----------+---------+--------------+------------------+\n| (4,[2],[1.0])|         2|      0.0|           0.0|     (2,[0],[1.0])|\n| (4,[1],[1.0])|         1|      0.0|           1.0|     (2,[1],[1.0])|\n+--------------+----------+---------+--------------+------------------+\nonly showing top 2 rows\n\n"
            ]
          }
        }
      ],
      "execution_count": null
    },
    {
      "cell_type": "code",
      "source": [
        "df3.select('guardian_index','guardian_index_num','guardian').distinct().show()"
      ],
      "metadata": {
        "application/vnd.databricks.v1+cell": {
          "title": "",
          "showTitle": false,
          "inputWidgets": {},
          "nuid": "8b79683d-773b-4d8d-8f96-aaeea7afda6e"
        },
        "id": "ox5Yw5YPKn90",
        "outputId": "1365be11-e5ca-44d9-ad6d-8eabae21244c"
      },
      "outputs": [
        {
          "output_type": "display_data",
          "metadata": {
            "application/vnd.databricks.v1+output": {
              "datasetInfos": [],
              "data": "+--------------+------------------+--------+\n|guardian_index|guardian_index_num|guardian|\n+--------------+------------------+--------+\n|           2.0|         (2,[],[])|   other|\n|           1.0|     (2,[1],[1.0])|  father|\n|           0.0|     (2,[0],[1.0])|  mother|\n+--------------+------------------+--------+\n\n",
              "removedWidgets": [],
              "addedWidgets": {},
              "metadata": {},
              "type": "ansi",
              "arguments": {}
            }
          },
          "data": {
            "text/plain": [
              "+--------------+------------------+--------+\n|guardian_index|guardian_index_num|guardian|\n+--------------+------------------+--------+\n|           2.0|         (2,[],[])|   other|\n|           1.0|     (2,[1],[1.0])|  father|\n|           0.0|     (2,[0],[1.0])|  mother|\n+--------------+------------------+--------+\n\n"
            ]
          }
        }
      ],
      "execution_count": null
    },
    {
      "cell_type": "code",
      "source": [
        "#create featurized dataset for ML Model, G3_PF (Grade 3 pass/fail) is the label to predict\n",
        "featurized_data = df3.select(\"G3_PF\",'features').withColumnRenamed('G3_PF','label')\n",
        "featurized_data.show(5)"
      ],
      "metadata": {
        "application/vnd.databricks.v1+cell": {
          "title": "",
          "showTitle": false,
          "inputWidgets": {},
          "nuid": "f835e349-667e-4491-8acc-8506e6619385"
        },
        "id": "zgjqXKqBKn90",
        "outputId": "fcfc9709-7e60-4ac9-fb21-e1806314ef56"
      },
      "outputs": [
        {
          "output_type": "display_data",
          "metadata": {
            "application/vnd.databricks.v1+output": {
              "datasetInfos": [],
              "data": "+-----+--------------------+\n|label|            features|\n+-----+--------------------+\n|  0.0|(77,[4,5,6,8,11,2...|\n|  0.0|(77,[8,9,14,18,23...|\n|  1.0|(77,[3,5,6,7,8,14...|\n|  1.0|(77,[7,12,19,26,3...|\n|  1.0|(77,[7,8,11,16,20...|\n+-----+--------------------+\nonly showing top 5 rows\n\n",
              "removedWidgets": [],
              "addedWidgets": {},
              "metadata": {},
              "type": "ansi",
              "arguments": {}
            }
          },
          "data": {
            "text/plain": [
              "+-----+--------------------+\n|label|            features|\n+-----+--------------------+\n|  0.0|(77,[4,5,6,8,11,2...|\n|  0.0|(77,[8,9,14,18,23...|\n|  1.0|(77,[3,5,6,7,8,14...|\n|  1.0|(77,[7,12,19,26,3...|\n|  1.0|(77,[7,8,11,16,20...|\n+-----+--------------------+\nonly showing top 5 rows\n\n"
            ]
          }
        }
      ],
      "execution_count": null
    },
    {
      "cell_type": "code",
      "source": [
        "#create the Test/Train datasets using 80/20 split\n",
        "seed = 10\n",
        "trainDF, testDF = featurized_data.randomSplit([0.8,0.2],seed)\n",
        "print(trainDF.count(), testDF.count())"
      ],
      "metadata": {
        "application/vnd.databricks.v1+cell": {
          "title": "",
          "showTitle": false,
          "inputWidgets": {},
          "nuid": "e9308a2c-e50d-43a2-81c0-8341128f22ef"
        },
        "id": "cy3YVRg1Kn91",
        "outputId": "44f69c9b-3bdd-4db5-8ea0-1de3abbe2062"
      },
      "outputs": [
        {
          "output_type": "display_data",
          "metadata": {
            "application/vnd.databricks.v1+output": {
              "datasetInfos": [],
              "data": "320 75\n",
              "removedWidgets": [],
              "addedWidgets": {},
              "metadata": {},
              "type": "ansi",
              "arguments": {}
            }
          },
          "data": {
            "text/plain": [
              "320 75\n"
            ]
          }
        }
      ],
      "execution_count": null
    },
    {
      "cell_type": "markdown",
      "source": [
        "### Logistic Regression Cross Validation Model 1"
      ],
      "metadata": {
        "application/vnd.databricks.v1+cell": {
          "title": "",
          "showTitle": false,
          "inputWidgets": {},
          "nuid": "12a541e3-e3e6-4f36-aeea-0abcf7fe1740"
        },
        "id": "gBZO0NGTKn91"
      }
    },
    {
      "cell_type": "code",
      "source": [
        "#Apply Logistic Regression Model to predict if Student will pass/fail G3\n",
        "\n",
        "lr = LogisticRegression(maxIter = 10)\n",
        "\n",
        "paramGrid_lr = ParamGridBuilder() \\\n",
        "    .addGrid(lr.regParam, np.linspace(0.3, 0.01, 10)) \\\n",
        "    .addGrid(lr.elasticNetParam, np.linspace(0.3, 0.8, 6)) \\\n",
        "    .build()\n",
        "crossval_lr = CrossValidator(estimator=lr,\n",
        "                          estimatorParamMaps=paramGrid_lr,\n",
        "                          evaluator=BinaryClassificationEvaluator(),\n",
        "                          numFolds= 5)  \n",
        "cvModel_lr = crossval_lr.fit(trainDF)\n",
        "best_model_lr = cvModel_lr.bestModel.summary\n"
      ],
      "metadata": {
        "application/vnd.databricks.v1+cell": {
          "title": "",
          "showTitle": false,
          "inputWidgets": {},
          "nuid": "3b3f9eb6-f5b6-49b2-9243-b940296c92ee"
        },
        "id": "OLSRp9ckKn91"
      },
      "outputs": [],
      "execution_count": null
    },
    {
      "cell_type": "code",
      "source": [
        "#Train DF \n",
        "best_model_lr.predictions.show(5)"
      ],
      "metadata": {
        "application/vnd.databricks.v1+cell": {
          "title": "",
          "showTitle": false,
          "inputWidgets": {},
          "nuid": "62c7cbf9-e35e-432c-81dd-80f22b796735"
        },
        "id": "S6Lj7zL8Kn91",
        "outputId": "48cca3a3-29c4-471d-a48d-5e9c243713e9"
      },
      "outputs": [
        {
          "output_type": "display_data",
          "metadata": {
            "application/vnd.databricks.v1+output": {
              "datasetInfos": [],
              "data": "/databricks/spark/python/pyspark/sql/context.py:134: FutureWarning: Deprecated in 3.0.0. Use SparkSession.builder.getOrCreate() instead.\n  warnings.warn(\n+-----+--------------------+--------------------+--------------------+----------+\n|label|            features|       rawPrediction|         probability|prediction|\n+-----+--------------------+--------------------+--------------------+----------+\n|  0.0|(77,[0,1,2,6,7,8,...|[-0.4798563177101...|[0.38228605428515...|       1.0|\n|  0.0|(77,[0,1,2,6,8,11...|[-0.2211423955862...|[0.44493861174416...|       1.0|\n|  0.0|(77,[0,1,2,6,9,12...|[-1.1342175107462...|[0.24338361429970...|       1.0|\n|  0.0|(77,[0,1,2,8,14,1...|[0.24867223363157...|[0.56184966539444...|       0.0|\n|  0.0|(77,[0,1,3,6,8,10...|[0.44410440728383...|[0.60923659309972...|       0.0|\n+-----+--------------------+--------------------+--------------------+----------+\nonly showing top 5 rows\n\n",
              "removedWidgets": [],
              "addedWidgets": {},
              "metadata": {},
              "type": "ansi",
              "arguments": {}
            }
          },
          "data": {
            "text/plain": [
              "/databricks/spark/python/pyspark/sql/context.py:134: FutureWarning: Deprecated in 3.0.0. Use SparkSession.builder.getOrCreate() instead.\n  warnings.warn(\n+-----+--------------------+--------------------+--------------------+----------+\n|label|            features|       rawPrediction|         probability|prediction|\n+-----+--------------------+--------------------+--------------------+----------+\n|  0.0|(77,[0,1,2,6,7,8,...|[-0.4798563177101...|[0.38228605428515...|       1.0|\n|  0.0|(77,[0,1,2,6,8,11...|[-0.2211423955862...|[0.44493861174416...|       1.0|\n|  0.0|(77,[0,1,2,6,9,12...|[-1.1342175107462...|[0.24338361429970...|       1.0|\n|  0.0|(77,[0,1,2,8,14,1...|[0.24867223363157...|[0.56184966539444...|       0.0|\n|  0.0|(77,[0,1,3,6,8,10...|[0.44410440728383...|[0.60923659309972...|       0.0|\n+-----+--------------------+--------------------+--------------------+----------+\nonly showing top 5 rows\n\n"
            ]
          }
        }
      ],
      "execution_count": null
    },
    {
      "cell_type": "markdown",
      "source": [
        "#### LR CV Model 1 Evaluation"
      ],
      "metadata": {
        "application/vnd.databricks.v1+cell": {
          "title": "",
          "showTitle": false,
          "inputWidgets": {},
          "nuid": "2b6a430c-81f2-4cc7-851b-881a36608801"
        },
        "id": "6WdoRUTGKn91"
      }
    },
    {
      "cell_type": "code",
      "source": [
        "#Compute Accuracy for Train dataset\n",
        "best_model_lr.predictions.groupBy('label','prediction').count().show()"
      ],
      "metadata": {
        "application/vnd.databricks.v1+cell": {
          "title": "",
          "showTitle": false,
          "inputWidgets": {},
          "nuid": "13cf74cc-2482-4255-89a5-efbbc694fc6b"
        },
        "id": "a7EXqnBrKn91",
        "outputId": "72c2945d-e7e5-4651-abb7-e7acbdc79295"
      },
      "outputs": [
        {
          "output_type": "display_data",
          "metadata": {
            "application/vnd.databricks.v1+output": {
              "datasetInfos": [],
              "data": "+-----+----------+-----+\n|label|prediction|count|\n+-----+----------+-----+\n|  1.0|       1.0|  206|\n|  0.0|       1.0|   73|\n|  1.0|       0.0|   10|\n|  0.0|       0.0|   31|\n+-----+----------+-----+\n\n",
              "removedWidgets": [],
              "addedWidgets": {},
              "metadata": {},
              "type": "ansi",
              "arguments": {}
            }
          },
          "data": {
            "text/plain": [
              "+-----+----------+-----+\n|label|prediction|count|\n+-----+----------+-----+\n|  1.0|       1.0|  206|\n|  0.0|       1.0|   73|\n|  1.0|       0.0|   10|\n|  0.0|       0.0|   31|\n+-----+----------+-----+\n\n"
            ]
          }
        }
      ],
      "execution_count": null
    },
    {
      "cell_type": "code",
      "source": [
        "#Accuracy for Train  \n",
        "total = 206+73+10+31\n",
        "correct = 206+31\n",
        "print('Train DF Accuracy:',(correct/total)*100,\"%\")"
      ],
      "metadata": {
        "application/vnd.databricks.v1+cell": {
          "title": "",
          "showTitle": false,
          "inputWidgets": {},
          "nuid": "f174733f-ada4-46f3-9814-cc50bd1f03b2"
        },
        "id": "VDuCgzBXKn92",
        "outputId": "24100754-28c3-4aa2-c56b-dc714982c80a"
      },
      "outputs": [
        {
          "output_type": "display_data",
          "metadata": {
            "application/vnd.databricks.v1+output": {
              "datasetInfos": [],
              "data": "Train DF Accuracy: 74.0625 %\n",
              "removedWidgets": [],
              "addedWidgets": {},
              "metadata": {},
              "type": "ansi",
              "arguments": {}
            }
          },
          "data": {
            "text/plain": [
              "Train DF Accuracy: 74.0625 %\n"
            ]
          }
        }
      ],
      "execution_count": null
    },
    {
      "cell_type": "code",
      "source": [
        "#transform Test Data\n",
        "predictions_lr = cvModel_lr.transform(testDF)\n",
        "predictions_lr.show(5)"
      ],
      "metadata": {
        "application/vnd.databricks.v1+cell": {
          "title": "",
          "showTitle": false,
          "inputWidgets": {},
          "nuid": "ae1fd6a5-8614-47aa-9b23-33f39395d910"
        },
        "id": "mn1Iy1RqKn92",
        "outputId": "49f200b5-10a6-4903-eaf3-65da06e0d386"
      },
      "outputs": [
        {
          "output_type": "display_data",
          "metadata": {
            "application/vnd.databricks.v1+output": {
              "datasetInfos": [],
              "data": "+-----+--------------------+--------------------+--------------------+----------+\n|label|            features|       rawPrediction|         probability|prediction|\n+-----+--------------------+--------------------+--------------------+----------+\n|  0.0|(77,[0,1,2,6,8,9,...|[0.01117903688206...|[0.50279473011559...|       0.0|\n|  0.0|(77,[0,1,2,6,8,14...|[0.18176786021207...|[0.54531726185862...|       0.0|\n|  0.0|(77,[0,1,3,4,7,8,...|[1.27090703233645...|[0.78089797735201...|       0.0|\n|  0.0|(77,[0,2,6,14,19,...|[-0.9699900153401...|[0.27488249236915...|       1.0|\n|  0.0|(77,[0,3,6,11,12,...|[0.47110059318903...|[0.61564421893612...|       0.0|\n+-----+--------------------+--------------------+--------------------+----------+\nonly showing top 5 rows\n\n",
              "removedWidgets": [],
              "addedWidgets": {},
              "metadata": {},
              "type": "ansi",
              "arguments": {}
            }
          },
          "data": {
            "text/plain": [
              "+-----+--------------------+--------------------+--------------------+----------+\n|label|            features|       rawPrediction|         probability|prediction|\n+-----+--------------------+--------------------+--------------------+----------+\n|  0.0|(77,[0,1,2,6,8,9,...|[0.01117903688206...|[0.50279473011559...|       0.0|\n|  0.0|(77,[0,1,2,6,8,14...|[0.18176786021207...|[0.54531726185862...|       0.0|\n|  0.0|(77,[0,1,3,4,7,8,...|[1.27090703233645...|[0.78089797735201...|       0.0|\n|  0.0|(77,[0,2,6,14,19,...|[-0.9699900153401...|[0.27488249236915...|       1.0|\n|  0.0|(77,[0,3,6,11,12,...|[0.47110059318903...|[0.61564421893612...|       0.0|\n+-----+--------------------+--------------------+--------------------+----------+\nonly showing top 5 rows\n\n"
            ]
          }
        }
      ],
      "execution_count": null
    },
    {
      "cell_type": "code",
      "source": [
        "#Calculate Accuracy using Binary/MulticlassMetrics\n",
        "\n",
        "#convert to RDD tuples\n",
        "pred_rdd_LR1 = predictions_lr.select('prediction','label').rdd.map(tuple)\n",
        "\n",
        "metrics_LR1 = MulticlassMetrics(pred_rdd_LR1)\n",
        "metrics_LR1B = BinaryClassificationMetrics(pred_rdd_LR1)\n",
        "\n",
        "# Overall statistics\n",
        "precision = metrics_LR1.precision(1.0)\n",
        "recall = metrics_LR1.recall(1.0)\n",
        "f1Score = metrics_LR1.fMeasure(1.0)\n",
        "accuracy = metrics_LR1.accuracy\n",
        "print(\"Summary Stats LR Model 1\")\n",
        "print(\"Accuracy = \", round(accuracy*100,2),'%')\n",
        "print(\"Precision =\", round(precision*100,2),'%')\n",
        "print(\"Recall = \", round(recall*100,2),'%')\n",
        "print(\"F1 Score = \", round(f1Score*100,2),'%')\n",
        "\n",
        "# Area under precision-recall curve\n",
        "print(\"Area under PR = %s\" % metrics_LR1B.areaUnderPR)\n",
        "\n",
        "# Area under ROC curve\n",
        "print(\"Area under ROC = %s\" % metrics_LR1B.areaUnderROC)"
      ],
      "metadata": {
        "application/vnd.databricks.v1+cell": {
          "title": "",
          "showTitle": false,
          "inputWidgets": {},
          "nuid": "5036cf04-2cb9-4114-b357-1a90fd7a9a71"
        },
        "id": "-18mZNMDKn92",
        "outputId": "f27f54ab-2145-4c6e-89c1-cfdaa24f66b8"
      },
      "outputs": [
        {
          "output_type": "display_data",
          "metadata": {
            "application/vnd.databricks.v1+output": {
              "datasetInfos": [],
              "data": "Summary Stats LR Model 1\nAccuracy =  69.33 %\nPrecision = 70.31 %\nRecall =  91.84 %\nF1 Score =  79.65 %\nArea under PR = 0.70109268707483\nArea under ROC = 0.5937990580847724\n",
              "removedWidgets": [],
              "addedWidgets": {},
              "metadata": {},
              "type": "ansi",
              "arguments": {}
            }
          },
          "data": {
            "text/plain": [
              "Summary Stats LR Model 1\nAccuracy =  69.33 %\nPrecision = 70.31 %\nRecall =  91.84 %\nF1 Score =  79.65 %\nArea under PR = 0.70109268707483\nArea under ROC = 0.5937990580847724\n"
            ]
          }
        }
      ],
      "execution_count": null
    },
    {
      "cell_type": "markdown",
      "source": [
        "### Logistic Regression Cross Validation Model 2\n",
        "(using reduced # features)\n",
        "\n",
        "- Eliminated School, Mjob, Fjob, Dalc, Walc\n",
        "- Added G1_PF, G2_PF (grade 1&2 converted to binary pass/fail)"
      ],
      "metadata": {
        "application/vnd.databricks.v1+cell": {
          "title": "",
          "showTitle": false,
          "inputWidgets": {},
          "nuid": "73356318-0b47-4152-a5ef-cec3c8ca5e2f"
        },
        "id": "TDF5vdJfKn92"
      }
    },
    {
      "cell_type": "code",
      "source": [
        "#cols to eliminate, per the research paper, adding in G1 & G2\n",
        "remove_cols = ['Mjob','Fjob','Walc','Dalc','school']\n",
        "reduced_feature_cols = [\n",
        " #'school_index',\n",
        " 'sex_index',\n",
        " 'address_index',\n",
        " 'famsize_index',\n",
        " 'Pstatus_index',\n",
        " 'schoolsup_index',\n",
        " 'famsup_index',\n",
        " 'paid_index',\n",
        " 'activities_index',\n",
        " 'nursery_index',\n",
        " 'higher_index',\n",
        " 'internet_index',\n",
        " 'romantic_index',\n",
        "  'Medu_Num',\n",
        " 'Fedu_Num',\n",
        " #'Mjob_index_Num',\n",
        " #'Fjob_index_Num',\n",
        " 'reason_index_Num',\n",
        " 'guardian_index_Num',\n",
        " 'traveltime_Num',\n",
        " 'studytime_Num',\n",
        " 'failures_Num',\n",
        " 'famrel_Num',\n",
        " 'freetime_Num',\n",
        " 'goout_Num',\n",
        "# 'Dalc_Num',\n",
        "# 'Walc_Num',\n",
        " 'health_Num',\n",
        " 'age',\n",
        " 'absences',\n",
        " 'G1_PF',  #added\n",
        " 'G2_PF']  #added\n",
        "len(reduced_feature_cols)"
      ],
      "metadata": {
        "application/vnd.databricks.v1+cell": {
          "title": "",
          "showTitle": false,
          "inputWidgets": {},
          "nuid": "56e9ffcd-76dd-4b9e-8f49-f00bbbc197ae"
        },
        "id": "LL9RqUftKn93",
        "outputId": "25618d79-63ef-40fa-fdb5-913d04d4b1c3"
      },
      "outputs": [
        {
          "output_type": "display_data",
          "metadata": {
            "application/vnd.databricks.v1+output": {
              "datasetInfos": [],
              "data": "Out[69]: 27",
              "removedWidgets": [],
              "addedWidgets": {},
              "metadata": {},
              "type": "ansi",
              "arguments": {}
            }
          },
          "data": {
            "text/plain": [
              "Out[69]: 27"
            ]
          }
        }
      ],
      "execution_count": null
    },
    {
      "cell_type": "code",
      "source": [
        "#CATEGORICAL/ORDINAL VARIABLES FOR ONEHOTENCODER\n",
        "encoders2 = [OneHotEncoder(inputCols = [col], outputCols = [col+\"_Num\"]).fit(df2_transformed) for col in OH_cols]\n",
        "\n",
        "#Build a new feature vector and df\n",
        "#Vector Assembler\n",
        "encoders2.append(VectorAssembler(inputCols=reduced_feature_cols, outputCol='features'))\n",
        "\n",
        "#Assemble pipeline\n",
        "pipeline = Pipeline(stages = encoders2)\n",
        "df4 = pipeline.fit(df2_transformed).transform(df2_transformed)"
      ],
      "metadata": {
        "application/vnd.databricks.v1+cell": {
          "title": "",
          "showTitle": false,
          "inputWidgets": {},
          "nuid": "29705caa-664e-4c0f-9233-8baeeaac70d9"
        },
        "id": "x5l_9_E7Kn93"
      },
      "outputs": [],
      "execution_count": null
    },
    {
      "cell_type": "code",
      "source": [
        "#create featurized dataset for ML Model, G3_PF (Grade 3 pass/fail) is the label to predict\n",
        "featurized_data_reduced = df4.select(\"G3_PF\",'features').withColumnRenamed('G3_PF','label')\n",
        "featurized_data_reduced.show(5)"
      ],
      "metadata": {
        "application/vnd.databricks.v1+cell": {
          "title": "",
          "showTitle": false,
          "inputWidgets": {},
          "nuid": "7ea6f867-4561-4289-aecb-6ca3244a8440"
        },
        "id": "YR3QliyRKn93",
        "outputId": "66fb570b-4d3c-41dc-b909-c9bf397f1fea"
      },
      "outputs": [
        {
          "output_type": "display_data",
          "metadata": {
            "application/vnd.databricks.v1+output": {
              "datasetInfos": [],
              "data": "+-----+--------------------+\n|label|            features|\n+-----+--------------------+\n|  0.0|(60,[3,4,5,7,10,2...|\n|  0.0|(60,[7,8,13,17,20...|\n|  1.0|(60,[2,4,5,6,7,13...|\n|  1.0|(60,[6,11,18,21,2...|\n|  1.0|(60,[6,7,10,15,19...|\n+-----+--------------------+\nonly showing top 5 rows\n\n",
              "removedWidgets": [],
              "addedWidgets": {},
              "metadata": {},
              "type": "ansi",
              "arguments": {}
            }
          },
          "data": {
            "text/plain": [
              "+-----+--------------------+\n|label|            features|\n+-----+--------------------+\n|  0.0|(60,[3,4,5,7,10,2...|\n|  0.0|(60,[7,8,13,17,20...|\n|  1.0|(60,[2,4,5,6,7,13...|\n|  1.0|(60,[6,11,18,21,2...|\n|  1.0|(60,[6,7,10,15,19...|\n+-----+--------------------+\nonly showing top 5 rows\n\n"
            ]
          }
        }
      ],
      "execution_count": null
    },
    {
      "cell_type": "code",
      "source": [
        "#create the Test/Train datasets using 80/20 split\n",
        "seed = 10\n",
        "trainDF2, testDF2 = featurized_data_reduced.randomSplit([0.8,0.2],seed)\n",
        "print(trainDF2.count(), testDF2.count())"
      ],
      "metadata": {
        "application/vnd.databricks.v1+cell": {
          "title": "",
          "showTitle": false,
          "inputWidgets": {},
          "nuid": "21d4364a-64f8-4d39-b49c-3d41002027fb"
        },
        "id": "rIkj1tUaKn93",
        "outputId": "e0a061e1-67e4-45de-d269-79a1de4a3255"
      },
      "outputs": [
        {
          "output_type": "display_data",
          "metadata": {
            "application/vnd.databricks.v1+output": {
              "datasetInfos": [],
              "data": "320 75\n",
              "removedWidgets": [],
              "addedWidgets": {},
              "metadata": {},
              "type": "ansi",
              "arguments": {}
            }
          },
          "data": {
            "text/plain": [
              "320 75\n"
            ]
          }
        }
      ],
      "execution_count": null
    },
    {
      "cell_type": "code",
      "source": [
        "#Apply Logistic Regression Model to predict if Student will pass/fail G3\n",
        "\n",
        "lr2 = LogisticRegression(maxIter = 10)\n",
        "\n",
        "paramGrid_lr2 = ParamGridBuilder() \\\n",
        "    .addGrid(lr2.regParam, np.linspace(0.3, 0.01, 10)) \\\n",
        "    .addGrid(lr2.elasticNetParam, np.linspace(0.3, 0.8, 6)) \\\n",
        "    .build()\n",
        "crossval_lr2 = CrossValidator(estimator=lr2,\n",
        "                          estimatorParamMaps=paramGrid_lr2,\n",
        "                          evaluator=BinaryClassificationEvaluator(),\n",
        "                          numFolds= 5)  \n",
        "cvModel_lr2 = crossval_lr2.fit(trainDF2)\n",
        "best_model_lr2 = cvModel_lr2.bestModel.summary"
      ],
      "metadata": {
        "application/vnd.databricks.v1+cell": {
          "title": "",
          "showTitle": false,
          "inputWidgets": {},
          "nuid": "73ac5679-8573-4168-90ec-2d76ed9e1d70"
        },
        "id": "Tck_ZnZ6Kn93"
      },
      "outputs": [],
      "execution_count": null
    },
    {
      "cell_type": "code",
      "source": [
        "#transform testDF\n",
        "predictions_lr2 = cvModel_lr2.transform(testDF2)\n",
        "predictions_lr2.show(5)"
      ],
      "metadata": {
        "application/vnd.databricks.v1+cell": {
          "title": "",
          "showTitle": false,
          "inputWidgets": {},
          "nuid": "d941502f-d454-42cd-8d4d-76a386c27174"
        },
        "id": "DTalPMRbKn94",
        "outputId": "69e5d0a7-8de9-4692-bcf5-356863eb1a0e"
      },
      "outputs": [
        {
          "output_type": "display_data",
          "metadata": {
            "application/vnd.databricks.v1+output": {
              "datasetInfos": [],
              "data": "+-----+--------------------+--------------------+--------------------+----------+\n|label|            features|       rawPrediction|         probability|prediction|\n+-----+--------------------+--------------------+--------------------+----------+\n|  0.0|(60,[0,1,2,5,9,11...|[0.81593709981769...|[0.69337321921279...|       0.0|\n|  0.0|(60,[0,1,4,5,6,10...|[-0.1354392827304...|[0.46619184435906...|       1.0|\n|  0.0|(60,[0,1,5,7,8,10...|[0.05355707881031...|[0.51338607018240...|       0.0|\n|  0.0|(60,[0,1,5,8,10,1...|[0.62956503899326...|[0.65239082956459...|       0.0|\n|  0.0|(60,[0,1,7,10,11,...|[0.62904017884998...|[0.65227179381927...|       0.0|\n+-----+--------------------+--------------------+--------------------+----------+\nonly showing top 5 rows\n\n",
              "removedWidgets": [],
              "addedWidgets": {},
              "metadata": {},
              "type": "ansi",
              "arguments": {}
            }
          },
          "data": {
            "text/plain": [
              "+-----+--------------------+--------------------+--------------------+----------+\n|label|            features|       rawPrediction|         probability|prediction|\n+-----+--------------------+--------------------+--------------------+----------+\n|  0.0|(60,[0,1,2,5,9,11...|[0.81593709981769...|[0.69337321921279...|       0.0|\n|  0.0|(60,[0,1,4,5,6,10...|[-0.1354392827304...|[0.46619184435906...|       1.0|\n|  0.0|(60,[0,1,5,7,8,10...|[0.05355707881031...|[0.51338607018240...|       0.0|\n|  0.0|(60,[0,1,5,8,10,1...|[0.62956503899326...|[0.65239082956459...|       0.0|\n|  0.0|(60,[0,1,7,10,11,...|[0.62904017884998...|[0.65227179381927...|       0.0|\n+-----+--------------------+--------------------+--------------------+----------+\nonly showing top 5 rows\n\n"
            ]
          }
        }
      ],
      "execution_count": null
    },
    {
      "cell_type": "markdown",
      "source": [
        "#### LR CV Model 2 Evaluation"
      ],
      "metadata": {
        "application/vnd.databricks.v1+cell": {
          "title": "",
          "showTitle": false,
          "inputWidgets": {},
          "nuid": "82d581b5-0dd4-4de5-8d66-9e3fc8eab67e"
        },
        "id": "_cHK9j5MKn94"
      }
    },
    {
      "cell_type": "code",
      "source": [
        "#Test DF Accuracy\n",
        "predictions_lr2.groupBy('label','prediction').count().show()"
      ],
      "metadata": {
        "application/vnd.databricks.v1+cell": {
          "title": "",
          "showTitle": false,
          "inputWidgets": {},
          "nuid": "882d0a32-0c84-4961-a57a-533fe1ff3c33"
        },
        "id": "la4pJOHWKn94",
        "outputId": "60316178-5f03-40b3-95ae-0046e3aa8448"
      },
      "outputs": [
        {
          "output_type": "display_data",
          "metadata": {
            "application/vnd.databricks.v1+output": {
              "datasetInfos": [],
              "data": "+-----+----------+-----+\n|label|prediction|count|\n+-----+----------+-----+\n|  1.0|       1.0|   46|\n|  0.0|       1.0|    5|\n|  1.0|       0.0|    3|\n|  0.0|       0.0|   21|\n+-----+----------+-----+\n\n",
              "removedWidgets": [],
              "addedWidgets": {},
              "metadata": {},
              "type": "ansi",
              "arguments": {}
            }
          },
          "data": {
            "text/plain": [
              "+-----+----------+-----+\n|label|prediction|count|\n+-----+----------+-----+\n|  1.0|       1.0|   46|\n|  0.0|       1.0|    5|\n|  1.0|       0.0|    3|\n|  0.0|       0.0|   21|\n+-----+----------+-----+\n\n"
            ]
          }
        }
      ],
      "execution_count": null
    },
    {
      "cell_type": "code",
      "source": [
        "#Calculate Accuracy using Binary/MulticlassMetrics\n",
        "\n",
        "#convert to RDD tuples\n",
        "pred_rdd_LR2 = predictions_lr2.select('prediction','label').rdd.map(tuple)\n",
        "\n",
        "metrics_LR2 = MulticlassMetrics(pred_rdd_LR2)\n",
        "metrics_LR2B = BinaryClassificationMetrics(pred_rdd_LR2)\n",
        "\n",
        "# Overall statistics\n",
        "precision = metrics_LR2.precision(1.0)\n",
        "recall = metrics_LR2.recall(1.0)\n",
        "f1Score = metrics_LR2.fMeasure(1.0)\n",
        "accuracy = metrics_LR2.accuracy\n",
        "print(\"Summary Stats LR CV Model 2\")\n",
        "print(\"Accuracy = \", round(accuracy*100,2),'%')\n",
        "print(\"Precision =\", round(precision*100,2),'%')\n",
        "print(\"Recall = \", round(recall*100,2),'%')\n",
        "print(\"F1 Score = \", round(f1Score*100,2),'%')\n",
        "\n",
        "# Area under precision-recall curve\n",
        "print(\"Area under PR = %s\" % metrics_LR2B.areaUnderPR)\n",
        "\n",
        "# Area under ROC curve\n",
        "print(\"Area under ROC = %s\" % metrics_LR2B.areaUnderROC)"
      ],
      "metadata": {
        "application/vnd.databricks.v1+cell": {
          "title": "",
          "showTitle": false,
          "inputWidgets": {},
          "nuid": "22da938e-7e04-4512-862f-e55c084626ea"
        },
        "id": "k-TtIozHKn94",
        "outputId": "c46cac55-b288-4f57-c900-f0b392fd092c"
      },
      "outputs": [
        {
          "output_type": "display_data",
          "metadata": {
            "application/vnd.databricks.v1+output": {
              "datasetInfos": [],
              "data": "/databricks/spark/python/pyspark/sql/context.py:134: FutureWarning: Deprecated in 3.0.0. Use SparkSession.builder.getOrCreate() instead.\n  warnings.warn(\nSummary Stats LR CV Model 2\nAccuracy =  89.33 %\nPrecision = 90.2 %\nRecall =  93.88 %\nF1 Score =  92.0 %\nArea under PR = 0.8943497398959585\nArea under ROC = 0.8732339089481947\n",
              "removedWidgets": [],
              "addedWidgets": {},
              "metadata": {},
              "type": "ansi",
              "arguments": {}
            }
          },
          "data": {
            "text/plain": [
              "/databricks/spark/python/pyspark/sql/context.py:134: FutureWarning: Deprecated in 3.0.0. Use SparkSession.builder.getOrCreate() instead.\n  warnings.warn(\nSummary Stats LR CV Model 2\nAccuracy =  89.33 %\nPrecision = 90.2 %\nRecall =  93.88 %\nF1 Score =  92.0 %\nArea under PR = 0.8943497398959585\nArea under ROC = 0.8732339089481947\n"
            ]
          }
        }
      ],
      "execution_count": null
    },
    {
      "cell_type": "markdown",
      "source": [
        "## Logistic Regression CV WT Model 2"
      ],
      "metadata": {
        "application/vnd.databricks.v1+cell": {
          "title": "",
          "showTitle": false,
          "inputWidgets": {},
          "nuid": "366a369f-d700-433d-991e-08259f460416"
        },
        "id": "k-mHVKBgKn94"
      }
    },
    {
      "cell_type": "code",
      "source": [
        "# Function to grab the ratio of true values\n",
        "# Code adapted from http://blog.madhukaraphatak.com/spark-3-introduction-part-4\n",
        "def get_ratio(df):\n",
        "    fraudDf = df.filter(\"G3_PF=1.0\")\n",
        "    sampleRatio = fraudDf.count() / df.count()\n",
        "    return sampleRatio"
      ],
      "metadata": {
        "application/vnd.databricks.v1+cell": {
          "title": "",
          "showTitle": false,
          "inputWidgets": {},
          "nuid": "2b71d644-3f58-4ffe-a1b4-a5464f556460"
        },
        "id": "aK5DFz_SKn94"
      },
      "outputs": [],
      "execution_count": null
    },
    {
      "cell_type": "code",
      "source": [
        "#Apply Logistic Regression Model to predict if Student will pass/fail G3\n",
        "\n",
        "# Feed in the data set, and save both values of when a student passes and when they dont. \n",
        "ratioOfFraud = get_ratio(df4)\n",
        "passWeight  = 1 - ratioOfFraud\n",
        "failWeight = ratioOfFraud\n",
        "\n",
        "#Using a when/otherwise clause, when G3_PF is true then make the new column with the pass weight, otherwise put the fail weight. \n",
        "weightedDF = df4.withColumn(\"weight\", when(df4.G3_PF == 1.0, passWeight).otherwise(failWeight))\n",
        "\n",
        "#Select the new rdd containing weight. \n",
        "featurized_data_reduced = weightedDF.select(\"G3_PF\",'features','weight').withColumnRenamed('G3_PF','label')\n",
        "\n",
        "#create the Test/Train datasets using 80/20 split\n",
        "seed = 10\n",
        "weightedtrainDF2, weightedtestDF2 = featurized_data_reduced.randomSplit([0.8,0.2],seed)"
      ],
      "metadata": {
        "application/vnd.databricks.v1+cell": {
          "title": "",
          "showTitle": false,
          "inputWidgets": {},
          "nuid": "2dff9241-a168-4494-bd34-570dd2f81b4b"
        },
        "id": "0b62ROAbKn95"
      },
      "outputs": [],
      "execution_count": null
    },
    {
      "cell_type": "code",
      "source": [
        "#Apply Logistic Regression Model to predict if Student will pass/fail G3\n",
        "\n",
        "lr2 = LogisticRegression(maxIter = 10)\n",
        "lr2.setWeightCol(\"weight\")\n",
        "\n",
        "\n",
        "paramGrid_lr2 = ParamGridBuilder() \\\n",
        "    .addGrid(lr2.regParam, np.linspace(0.3, 0.01, 10)) \\\n",
        "    .addGrid(lr2.elasticNetParam, np.linspace(0.3, 0.8, 6)) \\\n",
        "    .build()\n",
        "crossval_lr2 = CrossValidator(estimator= lr2,\n",
        "                          estimatorParamMaps=paramGrid_lr2,\n",
        "                          evaluator=BinaryClassificationEvaluator(),\n",
        "                          numFolds= 5)  \n",
        "cvModel_lr2 = crossval_lr2.fit(weightedtrainDF2)\n",
        "best_model_lr2 = cvModel_lr2.bestModel.summary\n"
      ],
      "metadata": {
        "application/vnd.databricks.v1+cell": {
          "title": "",
          "showTitle": false,
          "inputWidgets": {},
          "nuid": "d1281b0d-d937-4a58-b2cc-0183fbd142af"
        },
        "id": "B2fm1mASKn95"
      },
      "outputs": [],
      "execution_count": null
    },
    {
      "cell_type": "code",
      "source": [
        "prediction_lrModel = cvModel_lr2.transform(weightedtestDF2)"
      ],
      "metadata": {
        "application/vnd.databricks.v1+cell": {
          "title": "",
          "showTitle": false,
          "inputWidgets": {},
          "nuid": "69ad36f0-5b9d-438b-8a7e-0ba7be551c54"
        },
        "id": "VZEhsON6Kn95"
      },
      "outputs": [],
      "execution_count": null
    },
    {
      "cell_type": "code",
      "source": [
        "#convert predictions df from test data to rdd\n",
        "#prediction_RDD_lrModel = prediction_lrModel_summary.select('prediction','label').rdd.map(tuple)\n",
        "prediction_RDD_lrModel = prediction_lrModel.select('prediction','label').rdd.map(tuple)\n",
        "\n",
        "#instantiate multiclass and binaryclass metrics to obtain metrics\n",
        "metrics_lrModel2 = MulticlassMetrics(prediction_RDD_lrModel)\n",
        "metrics_lrModel2B = BinaryClassificationMetrics(prediction_RDD_lrModel)\n",
        "\n",
        "# Overall statistics\n",
        "precision = metrics_lrModel2.precision(1.0)\n",
        "recall = metrics_lrModel2.recall(1.0)\n",
        "f1Score = metrics_lrModel2.fMeasure(1.0)\n",
        "accuracy = metrics_lrModel2.accuracy\n",
        "print(\"Summary Stats LR CV WT Model 2\")\n",
        "print(\"Accuracy = \", round(accuracy*100,2),'%')\n",
        "print(\"Precision =\", round(precision*100,2),'%')\n",
        "print(\"Recall = \", round(recall*100,2),'%')\n",
        "print(\"F1 Score = \", round(f1Score*100,2),'%')\n",
        "\n",
        "# Area under precision-recall curve\n",
        "print(\"Area under PR = %s\" % metrics_lrModel2B.areaUnderPR)\n",
        "\n",
        "# Area under ROC curve\n",
        "print(\"Area under ROC = %s\" % metrics_lrModel2B.areaUnderROC)"
      ],
      "metadata": {
        "application/vnd.databricks.v1+cell": {
          "title": "",
          "showTitle": false,
          "inputWidgets": {},
          "nuid": "15905c27-cdad-41a2-8c4e-cdbe8a9fd4d8"
        },
        "id": "hJH0rnRGKn95",
        "outputId": "a06ab758-74b4-4407-c699-389921c8afc8"
      },
      "outputs": [
        {
          "output_type": "display_data",
          "metadata": {
            "application/vnd.databricks.v1+output": {
              "datasetInfos": [],
              "data": "Summary Stats LR CV WT Model 2\nAccuracy =  92.0 %\nPrecision = 95.74 %\nRecall =  91.84 %\nF1 Score =  93.75 %\nArea under PR = 0.9450340136054423\nArea under ROC = 0.9207221350078493\n",
              "removedWidgets": [],
              "addedWidgets": {},
              "metadata": {},
              "type": "ansi",
              "arguments": {}
            }
          },
          "data": {
            "text/plain": [
              "Summary Stats LR CV WT Model 2\nAccuracy =  92.0 %\nPrecision = 95.74 %\nRecall =  91.84 %\nF1 Score =  93.75 %\nArea under PR = 0.9450340136054423\nArea under ROC = 0.9207221350078493\n"
            ]
          }
        }
      ],
      "execution_count": null
    },
    {
      "cell_type": "code",
      "source": [
        "#Generate ROC Curve \n",
        "# CODE ADAPTED FROM https://itecnote.com/tecnote/pyspark-extract-roc-curve/\n",
        "class CurveMetrics(BinaryClassificationMetrics):\n",
        "    def __init__(self, *args):\n",
        "        super(CurveMetrics, self).__init__(*args)\n",
        "\n",
        "    def _to_list(self, rdd):\n",
        "        points = []\n",
        "        # Note this collect could be inefficient for large datasets \n",
        "        # considering there may be one probability per datapoint (at most)\n",
        "        # The Scala version takes a numBins parameter, \n",
        "        # but it doesn't seem possible to pass this from Python to Java\n",
        "        for row in rdd.collect():\n",
        "            # Results are returned as type scala.Tuple2, \n",
        "            # which doesn't appear to have a py4j mapping\n",
        "            points += [(float(row._1()), float(row._2()))]\n",
        "        return points\n",
        "\n",
        "    def get_curve(self, method):\n",
        "        rdd = getattr(self._java_model, method)().toJavaRDD()\n",
        "        return self._to_list(rdd)"
      ],
      "metadata": {
        "application/vnd.databricks.v1+cell": {
          "title": "",
          "showTitle": false,
          "inputWidgets": {},
          "nuid": "b4841340-c075-47f8-9c71-7b4d7877bf9c"
        },
        "id": "jjt3NEyBKn95"
      },
      "outputs": [],
      "execution_count": null
    },
    {
      "cell_type": "code",
      "source": [
        "# CODE ADAPTED FROM https://itecnote.com/tecnote/pyspark-extract-roc-curve/\n",
        "# Returns as a list (false positive rate, true positive rate)\n",
        "preds = prediction_lrModel.select('label','probability').rdd.map(lambda row: (float(row['probability'][1]), float(row['label'])))\n",
        "points = CurveMetrics(preds).get_curve('roc')\n",
        "\n",
        "plt.figure()\n",
        "x_val = [x[0] for x in points]\n",
        "y_val = [x[1] for x in points]\n",
        "plt.title('LR CV WT Model 2 ROC Test Dataset')\n",
        "plt.xlabel('FPR')\n",
        "plt.ylabel('TPR')\n",
        "plt.plot(x_val, y_val)\n",
        "plt.plot([0, 1], [0, 1], 'r--')"
      ],
      "metadata": {
        "application/vnd.databricks.v1+cell": {
          "title": "",
          "showTitle": false,
          "inputWidgets": {},
          "nuid": "d429e35a-61af-4c60-bdf5-e92a7057cc54"
        },
        "id": "1BHVV2ocKn95",
        "outputId": "b26cd03e-2799-4123-bedf-4c0523ffaeb6"
      },
      "outputs": [
        {
          "output_type": "display_data",
          "metadata": {
            "application/vnd.databricks.v1+output": {
              "datasetInfos": [],
              "data": "Out[37]: [<matplotlib.lines.Line2D at 0x7f0a58929cd0>]",
              "removedWidgets": [],
              "addedWidgets": {},
              "metadata": {},
              "type": "ansi",
              "arguments": {}
            }
          },
          "data": {
            "text/plain": [
              "Out[37]: [<matplotlib.lines.Line2D at 0x7f0a58929cd0>]"
            ]
          }
        },
        {
          "output_type": "display_data",
          "metadata": {
            "application/vnd.databricks.v1+output": {
              "datasetInfos": [],
              "data": "data:image/png;base64,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\n",
              "removedWidgets": [],
              "addedWidgets": {},
              "metadata": {},
              "type": "image",
              "arguments": {}
            }
          },
          "data": {
            "image/png": "[encoded data removed]"
          }
        }
      ],
      "execution_count": null
    },
    {
      "cell_type": "code",
      "source": [
        "#plotting the AUC/ROC\n",
        "FPR = cvModel_lr2.bestModel.summary.roc.select('FPR').collect()    #train\n",
        "TPR = cvModel_lr2.bestModel.summary.roc.select('TPR').collect()   #train\n",
        "\n",
        "plt.plot([0, 1], [0, 1], 'r--')\n",
        "plt.plot(FPR, TPR)\n",
        "plt.xlabel('FPR')\n",
        "plt.ylabel('TPR')\n",
        "plt.title('LR CV WT Model 2 ROC Train Dataset')\n",
        "plt.show()"
      ],
      "metadata": {
        "application/vnd.databricks.v1+cell": {
          "title": "",
          "showTitle": false,
          "inputWidgets": {},
          "nuid": "efdbd96b-2efa-42f4-9378-8d956269e988"
        },
        "id": "ErhvBEnuKn96",
        "outputId": "5e5ff5d7-9443-4a5d-dd93-4e426681e235"
      },
      "outputs": [
        {
          "output_type": "display_data",
          "metadata": {
            "application/vnd.databricks.v1+output": {
              "datasetInfos": [],
              "data": "data:image/png;base64,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\n",
              "removedWidgets": [],
              "addedWidgets": {},
              "metadata": {},
              "type": "image",
              "arguments": {}
            }
          },
          "data": {
            "image/png": "[encoded data removed]"
          }
        }
      ],
      "execution_count": null
    },
    {
      "cell_type": "code",
      "source": [
        "print(f\"Multinomial coefficients:{cvModel_lr2.bestModel.coefficientMatrix }\")\n",
        "print(f\"Multinomial intercept:{cvModel_lr2.bestModel.interceptVector}\")"
      ],
      "metadata": {
        "application/vnd.databricks.v1+cell": {
          "title": "",
          "showTitle": false,
          "inputWidgets": {},
          "nuid": "c43b1c8f-cab9-4575-811f-6ee9f8467f7f"
        },
        "id": "OZrlSAq3Kn96",
        "outputId": "64b34a6d-1102-429d-9e7d-ef598a634fbe"
      },
      "outputs": [
        {
          "output_type": "display_data",
          "metadata": {
            "application/vnd.databricks.v1+output": {
              "datasetInfos": [],
              "data": "Multinomial coefficients:1 X 60 CSRMatrix\n(0,33) 0.1653\n(0,56) -0.002\n(0,58) 0.7772\n(0,59) 1.7984\nMultinomial intercept:[-1.3587624453894471]\n",
              "removedWidgets": [],
              "addedWidgets": {},
              "metadata": {},
              "type": "ansi",
              "arguments": {}
            }
          },
          "data": {
            "text/plain": [
              "Multinomial coefficients:1 X 60 CSRMatrix\n(0,33) 0.1653\n(0,56) -0.002\n(0,58) 0.7772\n(0,59) 1.7984\nMultinomial intercept:[-1.3587624453894471]\n"
            ]
          }
        }
      ],
      "execution_count": null
    },
    {
      "cell_type": "code",
      "source": [
        "summary = cvModel_lr2.bestModel.summary\n",
        "print(summary)"
      ],
      "metadata": {
        "application/vnd.databricks.v1+cell": {
          "title": "",
          "showTitle": false,
          "inputWidgets": {},
          "nuid": "282a5fc7-a52a-4788-82ed-5045cf9240c0"
        },
        "id": "kAGFLpM1Kn96",
        "outputId": "18ddd500-9ea4-4107-d3ed-19fa6b2af1d3"
      },
      "outputs": [
        {
          "output_type": "display_data",
          "metadata": {
            "application/vnd.databricks.v1+output": {
              "datasetInfos": [],
              "data": "<pyspark.ml.classification.BinaryLogisticRegressionTrainingSummary object at 0x7f0a5883d940>\n",
              "removedWidgets": [],
              "addedWidgets": {},
              "metadata": {},
              "type": "ansi",
              "arguments": {}
            }
          },
          "data": {
            "text/plain": [
              "<pyspark.ml.classification.BinaryLogisticRegressionTrainingSummary object at 0x7f0a5883d940>\n"
            ]
          }
        }
      ],
      "execution_count": null
    },
    {
      "cell_type": "markdown",
      "source": [
        "### Logistic Regression Model 2 w/o Cross Validator"
      ],
      "metadata": {
        "application/vnd.databricks.v1+cell": {
          "title": "",
          "showTitle": false,
          "inputWidgets": {},
          "nuid": "8c0f83b7-9b69-4826-a9aa-d82efb89da4c"
        },
        "id": "iBR86JzxKn96"
      }
    },
    {
      "cell_type": "code",
      "source": [
        "#Logistic Regression Model 2 w/o Cross Validator\n",
        "lr_model2 = LogisticRegression(\n",
        "    maxIter=1000,\n",
        "    featuresCol='features',\n",
        "    labelCol='label'\n",
        "    )\n",
        "#fit model to train DF2\n",
        "lrModel = lr_model2.fit(trainDF2)\n",
        "\n",
        "#transform testDF2\n",
        "prediction_lrModel = lrModel.transform(testDF2)\n"
      ],
      "metadata": {
        "application/vnd.databricks.v1+cell": {
          "title": "",
          "showTitle": false,
          "inputWidgets": {},
          "nuid": "a87878b0-40e9-4acb-9cd8-e12bdbd086b7"
        },
        "id": "KMzoPESuKn96"
      },
      "outputs": [],
      "execution_count": null
    },
    {
      "cell_type": "markdown",
      "source": [
        "d\n",
        "### LR Model 2 Evaluation"
      ],
      "metadata": {
        "application/vnd.databricks.v1+cell": {
          "title": "",
          "showTitle": false,
          "inputWidgets": {},
          "nuid": "cdf9edfb-c70d-4317-a69c-f487fe6a358b"
        },
        "id": "-TwUBTp9Kn97"
      }
    },
    {
      "cell_type": "code",
      "source": [
        "prediction_RDD_lrModel = prediction_lrModel.select('prediction','label').rdd.map(tuple)"
      ],
      "metadata": {
        "application/vnd.databricks.v1+cell": {
          "title": "",
          "showTitle": false,
          "inputWidgets": {},
          "nuid": "1aa45132-c3df-4407-885d-8a858d7d9fac"
        },
        "id": "fwFWr7CsKn97"
      },
      "outputs": [],
      "execution_count": null
    },
    {
      "cell_type": "code",
      "source": [
        "#convert predictions df from test data to rdd\n",
        "prediction_RDD_lrModel = prediction_lrModel.select('prediction','label').rdd.map(tuple)\n",
        "\n",
        "#instantiate multiclass and binaryclass metrics to obtain metrics\n",
        "metrics_lrModel2 = MulticlassMetrics(prediction_RDD_lrModel)\n",
        "metrics_lrModel2B = BinaryClassificationMetrics(prediction_RDD_lrModel)\n",
        "\n",
        "# Overall statistics\n",
        "precision = metrics_lrModel2.precision(1.0)\n",
        "recall = metrics_lrModel2.recall(1.0)\n",
        "f1Score = metrics_lrModel2.fMeasure(1.0)\n",
        "accuracy = metrics_lrModel2.accuracy\n",
        "print(\"Summary Stats LR Model 2\")\n",
        "print(\"Accuracy = \", round(accuracy*100,2),'%')\n",
        "print(\"Precision =\", round(precision*100,2),'%')\n",
        "print(\"Recall = \", round(recall*100,2),'%')\n",
        "print(\"F1 Score = \", round(f1Score*100,2),'%')\n",
        "\n",
        "# Area under precision-recall curve\n",
        "print(\"Area under PR = %s\" % metrics_lrModel2B.areaUnderPR)\n",
        "\n",
        "# Area under ROC curve\n",
        "print(\"Area under ROC = %s\" % metrics_lrModel2B.areaUnderROC)"
      ],
      "metadata": {
        "application/vnd.databricks.v1+cell": {
          "title": "",
          "showTitle": false,
          "inputWidgets": {},
          "nuid": "10a6ecc7-0a16-4347-ac3e-b0990198033e"
        },
        "id": "L2bcy61bKn97",
        "outputId": "70723476-bc76-46ce-c1c2-a994afbf4204"
      },
      "outputs": [
        {
          "output_type": "display_data",
          "metadata": {
            "application/vnd.databricks.v1+output": {
              "datasetInfos": [],
              "data": "Summary Stats LR Model 2\nAccuracy =  73.33 %\nPrecision = 77.36 %\nRecall =  83.67 %\nF1 Score =  80.39 %\nArea under PR = 0.7637684507765371\nArea under ROC = 0.6875981161695447\n",
              "removedWidgets": [],
              "addedWidgets": {},
              "metadata": {},
              "type": "ansi",
              "arguments": {}
            }
          },
          "data": {
            "text/plain": [
              "Summary Stats LR Model 2\nAccuracy =  73.33 %\nPrecision = 77.36 %\nRecall =  83.67 %\nF1 Score =  80.39 %\nArea under PR = 0.7637684507765371\nArea under ROC = 0.6875981161695447\n"
            ]
          }
        }
      ],
      "execution_count": null
    },
    {
      "cell_type": "code",
      "source": [
        "#len = 60  matches df4 features vector of length 60  which comes from reduced_feature_cols variable. There are only 27 columns in this variable though. \n",
        "print(f\"Multinomial coefficients:{lrModel.coefficientMatrix}\")\n",
        "print(f\"Multinomial intercepts:{lrModel.interceptVector}\")"
      ],
      "metadata": {
        "application/vnd.databricks.v1+cell": {
          "title": "",
          "showTitle": false,
          "inputWidgets": {},
          "nuid": "39bb20b9-cca1-497b-afaf-e4caf6b6cdb4"
        },
        "id": "cB16AVgkKn97",
        "outputId": "15b51fd1-c455-4480-f2ab-d81ad371c90f"
      },
      "outputs": [
        {
          "output_type": "display_data",
          "metadata": {
            "application/vnd.databricks.v1+output": {
              "datasetInfos": [],
              "data": "Multinomial coefficients:DenseMatrix([[-1.10364829e-01,  1.58845694e+00, -8.65222944e-01,\n              -1.75912823e+00, -2.31607536e+00,  1.79377447e+00,\n               2.30250109e+00,  1.62083084e+00,  2.25550142e+00,\n               3.34547594e-01, -7.19016804e-02, -1.57191820e+00,\n              -2.28451459e-01, -9.09916248e-01, -1.38534201e+00,\n               5.92069150e-01,  6.43654451e+00,  1.99127772e+00,\n              -1.47762514e-01, -1.12321860e+00, -2.92587332e-01,\n               6.77547837e-01,  2.05613812e+00,  3.50909727e-01,\n              -5.22458488e-01,  0.00000000e+00, -4.13216164e+00,\n              -6.09540713e+00, -5.54216857e+00,  0.00000000e+00,\n               5.10506846e+00,  3.28921180e+00,  2.39925150e+00,\n               2.15017067e-01, -2.26590209e+00, -6.36574298e+00,\n               0.00000000e+00, -2.91543841e+00, -9.54864733e-01,\n              -1.01654080e+00, -9.22634615e-01,  0.00000000e+00,\n               9.26469746e-01, -3.99369729e-03, -7.55982204e-01,\n              -1.39761919e+00,  0.00000000e+00,  7.60768820e+00,\n               1.33929961e+00,  1.51606224e+00,  2.62962579e+00,\n               0.00000000e+00,  4.64425000e-01,  4.93520545e-01,\n               8.02639705e-01, -2.21840416e+00, -1.28066608e+00,\n               6.88949741e-02,  3.20488156e+00,  7.99323781e+00]])\nMultinomial intercepts:[15.99307073681457]\n",
              "removedWidgets": [],
              "addedWidgets": {},
              "metadata": {},
              "type": "ansi",
              "arguments": {}
            }
          },
          "data": {
            "text/plain": [
              "Multinomial coefficients:DenseMatrix([[-1.10364829e-01,  1.58845694e+00, -8.65222944e-01,\n              -1.75912823e+00, -2.31607536e+00,  1.79377447e+00,\n               2.30250109e+00,  1.62083084e+00,  2.25550142e+00,\n               3.34547594e-01, -7.19016804e-02, -1.57191820e+00,\n              -2.28451459e-01, -9.09916248e-01, -1.38534201e+00,\n               5.92069150e-01,  6.43654451e+00,  1.99127772e+00,\n              -1.47762514e-01, -1.12321860e+00, -2.92587332e-01,\n               6.77547837e-01,  2.05613812e+00,  3.50909727e-01,\n              -5.22458488e-01,  0.00000000e+00, -4.13216164e+00,\n              -6.09540713e+00, -5.54216857e+00,  0.00000000e+00,\n               5.10506846e+00,  3.28921180e+00,  2.39925150e+00,\n               2.15017067e-01, -2.26590209e+00, -6.36574298e+00,\n               0.00000000e+00, -2.91543841e+00, -9.54864733e-01,\n              -1.01654080e+00, -9.22634615e-01,  0.00000000e+00,\n               9.26469746e-01, -3.99369729e-03, -7.55982204e-01,\n              -1.39761919e+00,  0.00000000e+00,  7.60768820e+00,\n               1.33929961e+00,  1.51606224e+00,  2.62962579e+00,\n               0.00000000e+00,  4.64425000e-01,  4.93520545e-01,\n               8.02639705e-01, -2.21840416e+00, -1.28066608e+00,\n               6.88949741e-02,  3.20488156e+00,  7.99323781e+00]])\nMultinomial intercepts:[15.99307073681457]\n"
            ]
          }
        }
      ],
      "execution_count": null
    },
    {
      "cell_type": "markdown",
      "source": [
        "### Logistic Regression Model 2 with Class Weight"
      ],
      "metadata": {
        "application/vnd.databricks.v1+cell": {
          "title": "",
          "showTitle": false,
          "inputWidgets": {},
          "nuid": "b28fa4ef-b581-49a6-966a-e1fac04f72da"
        },
        "id": "AdetOtXGKn97"
      }
    },
    {
      "cell_type": "code",
      "source": [
        "#Apply Logistic Regression Model to predict if Student will pass/fail G3\n",
        "\n",
        "# Feed in the data set, and save both values of when a student passes and when they dont. \n",
        "ratioOfFraud = get_ratio(df4)\n",
        "passWeight  = 1 - ratioOfFraud\n",
        "failWeight = ratioOfFraud\n",
        "\n",
        "#Using a when/otherwise clause, when G3_PF is true then make the new column with the pass weight, otherwise put the fail weight. \n",
        "weightedDF = df4.withColumn(\"weight\", when(df4.G3_PF == 1.0, passWeight).otherwise(failWeight))\n",
        "\n",
        "#Select the new rdd containing weight. \n",
        "featurized_data_reduced = weightedDF.select(\"G3_PF\",'features','weight').withColumnRenamed('G3_PF','label')\n",
        "\n",
        "#create the Test/Train datasets using 80/20 split\n",
        "seed = 10\n",
        "weightedtrainDF2, weightedtestDF2 = featurized_data_reduced.randomSplit([0.8,0.2],seed)\n",
        "\n",
        "\n",
        "#Create the weighted model \n",
        "lr_weighted = LogisticRegression(maxIter=1000,\n",
        "    featuresCol='features',\n",
        "    labelCol='label')\n",
        "\n",
        "lr_weighted.setWeightCol(\"weight\")\n",
        "\n",
        "weightedcvModel_lr2 = lr_weighted.fit(weightedtrainDF2)\n",
        "\n",
        "\n",
        "\n",
        "#transform testDF2\n",
        "weighted_predictions_lr2 = weightedcvModel_lr2.transform(testDF2)"
      ],
      "metadata": {
        "application/vnd.databricks.v1+cell": {
          "title": "",
          "showTitle": false,
          "inputWidgets": {},
          "nuid": "689def1c-20ab-414a-a546-ea20dd25263c"
        },
        "id": "Jll-OOIJKn97"
      },
      "outputs": [],
      "execution_count": null
    },
    {
      "cell_type": "markdown",
      "source": [
        "### Weighted LR Model 2 Evaluation"
      ],
      "metadata": {
        "application/vnd.databricks.v1+cell": {
          "title": "",
          "showTitle": false,
          "inputWidgets": {},
          "nuid": "60788c2a-85a1-4a5c-a785-79d5fda35cae"
        },
        "id": "8Z7onC_fKn98"
      }
    },
    {
      "cell_type": "code",
      "source": [
        "#convert predictions df to RDD\n",
        "prediction_RDD_lrModel = weighted_predictions_lr2.select('prediction','label').rdd.map(tuple)\n",
        "\n",
        "#instantiate multiclass and binaryclass metrics to obtain metrics\n",
        "metrics_lrModel2 = MulticlassMetrics(prediction_RDD_lrModel)\n",
        "metrics_lrModel2B = BinaryClassificationMetrics(prediction_RDD_lrModel)\n",
        "\n",
        "# Overall statistics\n",
        "precision = metrics_lrModel2.precision(1.0)\n",
        "recall = metrics_lrModel2.recall(1.0)\n",
        "f1Score = metrics_lrModel2.fMeasure(1.0)\n",
        "accuracy = metrics_lrModel2.accuracy\n",
        "print(\"Summary Stats LR Weighted Model 2\")\n",
        "print(\"Accuracy = \", round(accuracy*100,2),'%')\n",
        "print(\"Precision =\", round(precision*100,2),'%')\n",
        "print(\"Recall = \", round(recall*100,2),'%')\n",
        "print(\"F1 Score = \", round(f1Score*100,2),'%')\n",
        "\n",
        "# Area under precision-recall curve\n",
        "print(\"Area under PR = %s\" % metrics_lrModel2B.areaUnderPR)\n",
        "\n",
        "# Area under ROC curve\n",
        "print(\"Area under ROC = %s\" % metrics_lrModel2B.areaUnderROC)"
      ],
      "metadata": {
        "application/vnd.databricks.v1+cell": {
          "title": "",
          "showTitle": false,
          "inputWidgets": {},
          "nuid": "817e56a0-5b00-4d4d-8cb1-fc3161f6e293"
        },
        "id": "RZFR3p8SKn98",
        "outputId": "d92d94ff-b955-40e1-decf-d698cb3d9037"
      },
      "outputs": [
        {
          "output_type": "display_data",
          "metadata": {
            "application/vnd.databricks.v1+output": {
              "datasetInfos": [],
              "data": "Summary Stats LR Weighted Model 2\nAccuracy =  73.33 %\nPrecision = 78.43 %\nRecall =  81.63 %\nF1 Score =  80.0 %\nArea under PR = 0.7722849139655863\nArea under ROC = 0.6966248037676609\n",
              "removedWidgets": [],
              "addedWidgets": {},
              "metadata": {},
              "type": "ansi",
              "arguments": {}
            }
          },
          "data": {
            "text/plain": [
              "Summary Stats LR Weighted Model 2\nAccuracy =  73.33 %\nPrecision = 78.43 %\nRecall =  81.63 %\nF1 Score =  80.0 %\nArea under PR = 0.7722849139655863\nArea under ROC = 0.6966248037676609\n"
            ]
          }
        }
      ],
      "execution_count": null
    },
    {
      "cell_type": "code",
      "source": [
        "# Generating the ROC Curve\n",
        "# CODE ADAPTED FROM https://itecnote.com/tecnote/pyspark-extract-roc-curve/\n",
        "# Returns as a list (false positive rate, true positive rate)\n",
        "preds = weighted_predictions_lr2.select('label','probability').rdd.map(lambda row: (float(row['probability'][1]), float(row['label'])))\n",
        "points = CurveMetrics(preds).get_curve('roc')\n",
        "\n",
        "plt.figure()\n",
        "x_val = [x[0] for x in points]\n",
        "y_val = [x[1] for x in points]\n",
        "plt.title('LR CV WT Model 2 ROC Test Dataset')\n",
        "plt.xlabel('FPR')\n",
        "plt.ylabel('TPR')\n",
        "plt.plot(x_val, y_val)\n",
        "plt.plot([0, 1], [0, 1], 'r--')"
      ],
      "metadata": {
        "application/vnd.databricks.v1+cell": {
          "title": "",
          "showTitle": false,
          "inputWidgets": {},
          "nuid": "86038481-ea83-4851-8bff-2ea571d4b7f0"
        },
        "id": "LnkiompYKn98",
        "outputId": "a7925c8c-f8c6-4d66-ec94-cc6515b00c33"
      },
      "outputs": [
        {
          "output_type": "display_data",
          "metadata": {
            "application/vnd.databricks.v1+output": {
              "datasetInfos": [],
              "data": "Out[79]: [<matplotlib.lines.Line2D at 0x7f0a5d150220>]",
              "removedWidgets": [],
              "addedWidgets": {},
              "metadata": {},
              "type": "ansi",
              "arguments": {}
            }
          },
          "data": {
            "text/plain": [
              "Out[79]: [<matplotlib.lines.Line2D at 0x7f0a5d150220>]"
            ]
          }
        },
        {
          "output_type": "display_data",
          "metadata": {
            "application/vnd.databricks.v1+output": {
              "datasetInfos": [],
              "data": "data:image/png;base64,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\n",
              "removedWidgets": [],
              "addedWidgets": {},
              "metadata": {},
              "type": "image",
              "arguments": {}
            }
          },
          "data": {
            "image/png": "[encoded data removed]"
          }
        }
      ],
      "execution_count": null
    },
    {
      "cell_type": "code",
      "source": [
        "#plotting the AUC/ROC for train\n",
        "FPR =weightedcvModel_lr2.summary.roc.select('FPR').collect()    #train\n",
        "TPR = weightedcvModel_lr2.summary.roc.select('TPR').collect()   #train\n",
        "\n",
        "plt.plot([0, 1], [0, 1], 'r--')\n",
        "plt.plot(FPR, TPR)\n",
        "plt.xlabel('FPR')\n",
        "plt.ylabel('TPR')\n",
        "plt.title('LR CV WT Model 2 ROC Train Dataset')\n",
        "plt.show()"
      ],
      "metadata": {
        "application/vnd.databricks.v1+cell": {
          "title": "",
          "showTitle": false,
          "inputWidgets": {},
          "nuid": "5306d6af-c05c-4052-9d97-3af9f9f2f56e"
        },
        "id": "FG56HxMNKn98",
        "outputId": "dad08d88-64c3-4110-e312-03c42f83be49"
      },
      "outputs": [
        {
          "output_type": "display_data",
          "metadata": {
            "application/vnd.databricks.v1+output": {
              "datasetInfos": [],
              "data": "data:image/png;base64,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\n",
              "removedWidgets": [],
              "addedWidgets": {},
              "metadata": {},
              "type": "image",
              "arguments": {}
            }
          },
          "data": {
            "image/png": "[encoded data removed]"
          }
        }
      ],
      "execution_count": null
    },
    {
      "cell_type": "code",
      "source": [
        "weightedcvModel_lr2.coefficientMatrix"
      ],
      "metadata": {
        "application/vnd.databricks.v1+cell": {
          "title": "",
          "showTitle": false,
          "inputWidgets": {},
          "nuid": "068cdf2b-384f-4775-a583-1aa811a3f620"
        },
        "id": "ZCJoaY5fKn98",
        "outputId": "0766b17f-0f26-44b6-d97c-b5d72107a14f"
      },
      "outputs": [
        {
          "output_type": "display_data",
          "metadata": {
            "application/vnd.databricks.v1+output": {
              "datasetInfos": [],
              "data": "Out[81]: DenseMatrix(1, 60, [0.0556, 1.4059, -0.8547, -2.2591, -2.3188, 2.2801, 2.3941, 2.019, ..., 0.863, 0.7324, 1.0353, -2.0674, -1.4314, 0.0811, 3.2234, 8.8292], 1)",
              "removedWidgets": [],
              "addedWidgets": {},
              "metadata": {},
              "type": "ansi",
              "arguments": {}
            }
          },
          "data": {
            "text/plain": [
              "Out[81]: DenseMatrix(1, 60, [0.0556, 1.4059, -0.8547, -2.2591, -2.3188, 2.2801, 2.3941, 2.019, ..., 0.863, 0.7324, 1.0353, -2.0674, -1.4314, 0.0811, 3.2234, 8.8292], 1)"
            ]
          }
        }
      ],
      "execution_count": null
    },
    {
      "cell_type": "markdown",
      "source": [
        "## RandomForestClassifier Model 1"
      ],
      "metadata": {
        "application/vnd.databricks.v1+cell": {
          "title": "",
          "showTitle": false,
          "inputWidgets": {},
          "nuid": "513de4b7-4bca-4d5b-908a-9d25bdf654fb"
        },
        "id": "-DXTzqYqKn98"
      }
    },
    {
      "cell_type": "code",
      "source": [
        "#Using same TrainDF, TestDF from Logistic Regression Model 1\n",
        "\n",
        "rf = RandomForestClassifier(featuresCol='features',labelCol='label')\n",
        "rfModel = rf.fit(trainDF)"
      ],
      "metadata": {
        "application/vnd.databricks.v1+cell": {
          "title": "",
          "showTitle": false,
          "inputWidgets": {},
          "nuid": "fb8c85a9-9f4f-4330-b57d-98a605a4dcfa"
        },
        "id": "_xqRumb4Kn99"
      },
      "outputs": [],
      "execution_count": null
    },
    {
      "cell_type": "code",
      "source": [
        "#predict on Test data\n",
        "pred_rf1 = rfModel.transform(testDF)\n",
        "pred_rf1.show(5)"
      ],
      "metadata": {
        "application/vnd.databricks.v1+cell": {
          "title": "",
          "showTitle": false,
          "inputWidgets": {},
          "nuid": "160b7c5b-0421-45f3-b2df-b588e5e50683"
        },
        "id": "4d-wbNoOKn99",
        "outputId": "456759bd-0424-4140-8a71-391576374b30"
      },
      "outputs": [
        {
          "output_type": "display_data",
          "metadata": {
            "application/vnd.databricks.v1+output": {
              "datasetInfos": [],
              "data": "+-----+--------------------+--------------------+--------------------+----------+\n|label|            features|       rawPrediction|         probability|prediction|\n+-----+--------------------+--------------------+--------------------+----------+\n|  0.0|(77,[0,1,2,6,8,9,...|[10.8803583620045...|[0.54401791810022...|       0.0|\n|  0.0|(77,[0,1,2,6,8,14...|[9.43498151255208...|[0.47174907562760...|       1.0|\n|  0.0|(77,[0,1,3,4,7,8,...|[13.0950259989053...|[0.65475129994526...|       0.0|\n|  0.0|(77,[0,2,6,14,19,...|[5.14576413256176...|[0.25728820662808...|       1.0|\n|  0.0|(77,[0,3,6,11,12,...|[11.4856048166392...|[0.57428024083196...|       0.0|\n+-----+--------------------+--------------------+--------------------+----------+\nonly showing top 5 rows\n\n",
              "removedWidgets": [],
              "addedWidgets": {},
              "metadata": {},
              "type": "ansi",
              "arguments": {}
            }
          },
          "data": {
            "text/plain": [
              "+-----+--------------------+--------------------+--------------------+----------+\n|label|            features|       rawPrediction|         probability|prediction|\n+-----+--------------------+--------------------+--------------------+----------+\n|  0.0|(77,[0,1,2,6,8,9,...|[10.8803583620045...|[0.54401791810022...|       0.0|\n|  0.0|(77,[0,1,2,6,8,14...|[9.43498151255208...|[0.47174907562760...|       1.0|\n|  0.0|(77,[0,1,3,4,7,8,...|[13.0950259989053...|[0.65475129994526...|       0.0|\n|  0.0|(77,[0,2,6,14,19,...|[5.14576413256176...|[0.25728820662808...|       1.0|\n|  0.0|(77,[0,3,6,11,12,...|[11.4856048166392...|[0.57428024083196...|       0.0|\n+-----+--------------------+--------------------+--------------------+----------+\nonly showing top 5 rows\n\n"
            ]
          }
        }
      ],
      "execution_count": null
    },
    {
      "cell_type": "markdown",
      "source": [
        "### RF Model 1 Evaluation"
      ],
      "metadata": {
        "application/vnd.databricks.v1+cell": {
          "title": "",
          "showTitle": false,
          "inputWidgets": {},
          "nuid": "b6607e5f-7e12-45aa-bc6c-1ac80171a52a"
        },
        "id": "GWF1ib2wKn99"
      }
    },
    {
      "cell_type": "code",
      "source": [
        "#Calculate Accuracy using Binary/MulticlassMetrics\n",
        "\n",
        "#convert to RDD tuples\n",
        "pred_rdd_rf1 = pred_rf1.select('prediction','label').rdd.map(tuple)\n",
        "\n",
        "metrics_RF1 = MulticlassMetrics(pred_rdd_rf1)\n",
        "metrics_RF1B = BinaryClassificationMetrics(pred_rdd_rf1)\n",
        "\n",
        "# Overall statistics\n",
        "precision = metrics_RF1.precision(1.0)\n",
        "recall = metrics_RF1.recall(1.0)\n",
        "f1Score = metrics_RF1.fMeasure(1.0)\n",
        "accuracy = metrics_RF1.accuracy\n",
        "print(\"Summary Stats RF Model 1\")\n",
        "print(\"Accuracy = \", round(accuracy*100,2),'%')\n",
        "print(\"Precision =\", round(precision*100,2),'%')\n",
        "print(\"Recall = \", round(recall*100,2),'%')\n",
        "print(\"F1 Score = \", round(f1Score*100,2),'%')\n",
        "\n",
        "# Area under precision-recall curve\n",
        "print(\"Area under PR = %s\" % metrics_RF1B.areaUnderPR)\n",
        "\n",
        "# Area under ROC curve\n",
        "print(\"Area under ROC = %s\" % metrics_RF1B.areaUnderROC)"
      ],
      "metadata": {
        "application/vnd.databricks.v1+cell": {
          "title": "",
          "showTitle": false,
          "inputWidgets": {},
          "nuid": "b479c8ad-0258-42d9-ac68-5600b2b27d41"
        },
        "id": "GaKmBoc3Kn99",
        "outputId": "c8e7abb7-0016-493d-f417-dab1017a841a"
      },
      "outputs": [
        {
          "output_type": "display_data",
          "metadata": {
            "application/vnd.databricks.v1+output": {
              "datasetInfos": [],
              "data": "Summary Stats RF Model 1\nAccuracy =  69.33 %\nPrecision = 69.7 %\nRecall =  93.88 %\nF1 Score =  80.0 %\nArea under PR = 0.6956338899196043\nArea under ROC = 0.5847723704866562\n",
              "removedWidgets": [],
              "addedWidgets": {},
              "metadata": {},
              "type": "ansi",
              "arguments": {}
            }
          },
          "data": {
            "text/plain": [
              "Summary Stats RF Model 1\nAccuracy =  69.33 %\nPrecision = 69.7 %\nRecall =  93.88 %\nF1 Score =  80.0 %\nArea under PR = 0.6956338899196043\nArea under ROC = 0.5847723704866562\n"
            ]
          }
        }
      ],
      "execution_count": null
    },
    {
      "cell_type": "markdown",
      "source": [
        "## RandomForestClassifier Model 2\n",
        "(reduced features from Logistic Regression Model 2)"
      ],
      "metadata": {
        "application/vnd.databricks.v1+cell": {
          "title": "",
          "showTitle": false,
          "inputWidgets": {},
          "nuid": "8b7fdb5d-bdf9-40ba-838d-81f1175010d1"
        },
        "id": "5l8uWh2bKn99"
      }
    },
    {
      "cell_type": "code",
      "source": [
        "#Using same TrainDF, TestDF from Logistic Regression Model 2\n",
        "\n",
        "rf2 = RandomForestClassifier(featuresCol='features',labelCol='label')\n",
        "rfModel2 = rf2.fit(trainDF2)"
      ],
      "metadata": {
        "application/vnd.databricks.v1+cell": {
          "title": "",
          "showTitle": false,
          "inputWidgets": {},
          "nuid": "2c18e5fe-d522-4443-b6e8-b79573f42f2e"
        },
        "id": "P1JmOHyFKn99"
      },
      "outputs": [],
      "execution_count": null
    },
    {
      "cell_type": "code",
      "source": [
        "#predict on Test data\n",
        "pred_rf2 = rfModel2.transform(testDF2)\n",
        "pred_rf2.show(5)"
      ],
      "metadata": {
        "application/vnd.databricks.v1+cell": {
          "title": "",
          "showTitle": false,
          "inputWidgets": {},
          "nuid": "714588bd-1adf-4b75-b341-6c1464eaa8dd"
        },
        "id": "7pJzpN0vKn99",
        "outputId": "385d42a6-8200-4685-9650-df06027b570d"
      },
      "outputs": [
        {
          "output_type": "display_data",
          "metadata": {
            "application/vnd.databricks.v1+output": {
              "datasetInfos": [],
              "data": "+-----+--------------------+--------------------+--------------------+----------+\n|label|            features|       rawPrediction|         probability|prediction|\n+-----+--------------------+--------------------+--------------------+----------+\n|  0.0|(60,[0,1,2,5,9,11...|[15.7762637618727...|[0.78881318809363...|       0.0|\n|  0.0|(60,[0,1,4,5,6,10...|[14.0723895154538...|[0.70361947577269...|       0.0|\n|  0.0|(60,[0,1,5,7,8,10...|[9.11745490511564...|[0.45587274525578...|       1.0|\n|  0.0|(60,[0,1,5,8,10,1...|[11.2788802529661...|[0.56394401264830...|       0.0|\n|  0.0|(60,[0,1,7,10,11,...|[14.8874271091745...|[0.74437135545872...|       0.0|\n+-----+--------------------+--------------------+--------------------+----------+\nonly showing top 5 rows\n\n",
              "removedWidgets": [],
              "addedWidgets": {},
              "metadata": {},
              "type": "ansi",
              "arguments": {}
            }
          },
          "data": {
            "text/plain": [
              "+-----+--------------------+--------------------+--------------------+----------+\n|label|            features|       rawPrediction|         probability|prediction|\n+-----+--------------------+--------------------+--------------------+----------+\n|  0.0|(60,[0,1,2,5,9,11...|[15.7762637618727...|[0.78881318809363...|       0.0|\n|  0.0|(60,[0,1,4,5,6,10...|[14.0723895154538...|[0.70361947577269...|       0.0|\n|  0.0|(60,[0,1,5,7,8,10...|[9.11745490511564...|[0.45587274525578...|       1.0|\n|  0.0|(60,[0,1,5,8,10,1...|[11.2788802529661...|[0.56394401264830...|       0.0|\n|  0.0|(60,[0,1,7,10,11,...|[14.8874271091745...|[0.74437135545872...|       0.0|\n+-----+--------------------+--------------------+--------------------+----------+\nonly showing top 5 rows\n\n"
            ]
          }
        }
      ],
      "execution_count": null
    },
    {
      "cell_type": "markdown",
      "source": [
        "### RF Model 2 Evaluation"
      ],
      "metadata": {
        "application/vnd.databricks.v1+cell": {
          "title": "",
          "showTitle": false,
          "inputWidgets": {},
          "nuid": "7dfd59a5-bce1-4f88-81d2-125e89f317ad"
        },
        "id": "OzOIlS9NKn9-"
      }
    },
    {
      "cell_type": "code",
      "source": [
        "#Calculate Accuracy using Binary/MulticlassMetrics\n",
        "\n",
        "#convert to RDD tuples\n",
        "pred_rdd_rf2 = pred_rf2.select('prediction','label').rdd.map(tuple)\n",
        "\n",
        "metrics_RF2 = MulticlassMetrics(pred_rdd_rf2)\n",
        "metrics_RF2B = BinaryClassificationMetrics(pred_rdd_rf2)\n",
        "\n",
        "# Overall statistics\n",
        "precision = metrics_RF2.precision(1.0)\n",
        "recall = metrics_RF2.recall(1.0)\n",
        "f1Score = metrics_RF2.fMeasure(1.0)\n",
        "accuracy = metrics_RF2.accuracy\n",
        "print(\"Summary Stats RF Model 1\")\n",
        "print(\"Accuracy = \", round(accuracy*100,2),'%')\n",
        "print(\"Precision =\", round(precision*100,2),'%')\n",
        "print(\"Recall = \", round(recall*100,2),'%')\n",
        "print(\"F1 Score = \", round(f1Score*100,2),'%')\n",
        "\n",
        "# Area under precision-recall curve\n",
        "print(\"Area under PR = %s\" % metrics_RF2B.areaUnderPR)\n",
        "\n",
        "# Area under ROC curve\n",
        "print(\"Area under ROC = %s\" % metrics_RF2B.areaUnderROC)"
      ],
      "metadata": {
        "application/vnd.databricks.v1+cell": {
          "title": "",
          "showTitle": false,
          "inputWidgets": {},
          "nuid": "c52f79e4-cc97-4f98-902e-ff2900104d93"
        },
        "id": "p3o3OybEKn9-",
        "outputId": "f2058da9-3cc7-4cc3-96e8-f51dab5dada6"
      },
      "outputs": [
        {
          "output_type": "display_data",
          "metadata": {
            "application/vnd.databricks.v1+output": {
              "datasetInfos": [],
              "data": "Summary Stats RF Model 1\nAccuracy =  88.0 %\nPrecision = 90.0 %\nRecall =  91.84 %\nF1 Score =  90.91 %\nArea under PR = 0.8899319727891156\nArea under ROC = 0.8630298273155417\n",
              "removedWidgets": [],
              "addedWidgets": {},
              "metadata": {},
              "type": "ansi",
              "arguments": {}
            }
          },
          "data": {
            "text/plain": [
              "Summary Stats RF Model 1\nAccuracy =  88.0 %\nPrecision = 90.0 %\nRecall =  91.84 %\nF1 Score =  90.91 %\nArea under PR = 0.8899319727891156\nArea under ROC = 0.8630298273155417\n"
            ]
          }
        }
      ],
      "execution_count": null
    },
    {
      "cell_type": "markdown",
      "source": [
        "## RandomForestClassifier  Weighted Model 2\n",
        "(reduced features from Logistic Regression Model 2)"
      ],
      "metadata": {
        "application/vnd.databricks.v1+cell": {
          "title": "",
          "showTitle": false,
          "inputWidgets": {},
          "nuid": "a53009a2-d5b2-4fa2-86ae-076889b2118c"
        },
        "id": "IJ2VDF_WKn9-"
      }
    },
    {
      "cell_type": "code",
      "source": [
        "#Using same TrainDF, TestDF from Logistic Regression Model 2\n",
        "\n",
        "rf3 = RandomForestClassifier(featuresCol='features',labelCol='label')\n",
        "rf3.setWeightCol(\"weight\")\n",
        "rfModel3 = rf3.fit(weightedtrainDF2)\n",
        "pred_rf3 = rfModel3.transform(testDF2)"
      ],
      "metadata": {
        "application/vnd.databricks.v1+cell": {
          "title": "",
          "showTitle": false,
          "inputWidgets": {},
          "nuid": "c846b37d-de80-4984-98d1-041dbd1d0282"
        },
        "id": "ARHGHnmtKn9-"
      },
      "outputs": [],
      "execution_count": null
    },
    {
      "cell_type": "code",
      "source": [
        "#Calculate Accuracy using Binary/MulticlassMetrics\n",
        "\n",
        "#convert to RDD tuples\n",
        "pred_rdd_rf2 = pred_rf3.select('prediction','label').rdd.map(tuple)\n",
        "\n",
        "metrics_RF2 = MulticlassMetrics(pred_rdd_rf2)\n",
        "metrics_RF2B = BinaryClassificationMetrics(pred_rdd_rf2)\n",
        "\n",
        "# Overall statistics\n",
        "precision = metrics_RF2.precision(1.0)\n",
        "recall = metrics_RF2.recall(1.0)\n",
        "f1Score = metrics_RF2.fMeasure(1.0)\n",
        "accuracy = metrics_RF2.accuracy\n",
        "print(\"Summary Stats RF Weighted Model 2\")\n",
        "print(\"Accuracy = \", round(accuracy*100,2),'%')\n",
        "print(\"Precision =\", round(precision*100,2),'%')\n",
        "print(\"Recall = \", round(recall*100,2),'%')\n",
        "print(\"F1 Score = \", round(f1Score*100,2),'%')\n",
        "\n",
        "# Area under precision-recall curve\n",
        "print(\"Area under PR = %s\" % metrics_RF2B.areaUnderPR)\n",
        "\n",
        "# Area under ROC curve\n",
        "print(\"Area under ROC = %s\" % metrics_RF2B.areaUnderROC)"
      ],
      "metadata": {
        "application/vnd.databricks.v1+cell": {
          "title": "",
          "showTitle": false,
          "inputWidgets": {},
          "nuid": "83458a6e-88e7-41e0-b1a6-81aa0a96941a"
        },
        "id": "ZwO-7zntKn9-",
        "outputId": "6b47e2cd-187c-42d1-facc-d2f008b866a2"
      },
      "outputs": [
        {
          "output_type": "display_data",
          "metadata": {
            "application/vnd.databricks.v1+output": {
              "datasetInfos": [],
              "data": "Summary Stats RF Weighted Model 2\nAccuracy =  90.67 %\nPrecision = 93.75 %\nRecall =  91.84 %\nF1 Score =  92.78 %\nArea under PR = 0.9259013605442177\nArea under ROC = 0.90149136577708\n",
              "removedWidgets": [],
              "addedWidgets": {},
              "metadata": {},
              "type": "ansi",
              "arguments": {}
            }
          },
          "data": {
            "text/plain": [
              "Summary Stats RF Weighted Model 2\nAccuracy =  90.67 %\nPrecision = 93.75 %\nRecall =  91.84 %\nF1 Score =  92.78 %\nArea under PR = 0.9259013605442177\nArea under ROC = 0.90149136577708\n"
            ]
          }
        }
      ],
      "execution_count": null
    },
    {
      "cell_type": "markdown",
      "source": [
        "## Naive Bayes"
      ],
      "metadata": {
        "application/vnd.databricks.v1+cell": {
          "title": "",
          "showTitle": false,
          "inputWidgets": {},
          "nuid": "8c7b8fa2-1303-45d4-bba4-a6b3b3e7b136"
        },
        "id": "5yK8_HnqKn9-"
      }
    },
    {
      "cell_type": "markdown",
      "source": [
        "### NB Model Implementation Model 1"
      ],
      "metadata": {
        "application/vnd.databricks.v1+cell": {
          "title": "",
          "showTitle": false,
          "inputWidgets": {},
          "nuid": "585f97b4-3444-4b08-9d0a-8300fa5ffb31"
        },
        "id": "4uqIc--qKn9-"
      }
    },
    {
      "cell_type": "code",
      "source": [
        "#create NB model using model 1 test/train DF\n",
        "nb = NaiveBayes(smoothing=1.0, modelType=\"multinomial\")\n",
        "nbmodel = nb.fit(trainDF)\n",
        "\n",
        "pred3 = nbmodel.transform(testDF)"
      ],
      "metadata": {
        "application/vnd.databricks.v1+cell": {
          "title": "",
          "showTitle": false,
          "inputWidgets": {},
          "nuid": "a53ab357-71c6-4788-ace6-119b49102215"
        },
        "id": "bDY4lCSTKn9_"
      },
      "outputs": [],
      "execution_count": null
    },
    {
      "cell_type": "markdown",
      "source": [
        "### NB Model 1 Evaluation"
      ],
      "metadata": {
        "application/vnd.databricks.v1+cell": {
          "title": "",
          "showTitle": false,
          "inputWidgets": {},
          "nuid": "27855962-9ad1-4a6d-a87d-191f1387d4a3"
        },
        "id": "e_nSS3vEKn9_"
      }
    },
    {
      "cell_type": "code",
      "source": [
        "#Calculate Accuracy using Binary/MulticlassMetrics\n",
        "\n",
        "#convert to RDD tuples\n",
        "pred_rdd_nb1 = pred3.select('prediction','label').rdd.map(tuple)\n",
        "\n",
        "metrics_NB1 = MulticlassMetrics(pred_rdd_nb1)\n",
        "metrics_NB1B = BinaryClassificationMetrics(pred_rdd_nb1)\n",
        "#metrics.accuracy\n",
        "#print(\"Naive Bayes Accuracy (Test) Data:\", round(metrics3.accuracy*100,2),'%')\n",
        "\n",
        "# Overall statistics\n",
        "precision = metrics_NB1.precision(1.0)\n",
        "recall = metrics_NB1.recall(1.0)\n",
        "f1Score = metrics_NB1.fMeasure(1.0)\n",
        "accuracy = metrics_NB1.accuracy\n",
        "print(\"Summary Stats NB Model 1\")\n",
        "print(\"Accuracy = \", round(accuracy*100,2),'%')\n",
        "print(\"Precision =\", round(precision*100,2),'%')\n",
        "print(\"Recall = \", round(recall*100,2),'%')\n",
        "print(\"F1 Score = \", round(f1Score*100,2),'%')\n",
        "\n",
        "# Area under precision-recall curve\n",
        "print(\"Area under PR = %s\" % metrics_NB1B.areaUnderPR)\n",
        "\n",
        "# Area under ROC curve\n",
        "print(\"Area under ROC = %s\" % metrics_NB1B.areaUnderROC)"
      ],
      "metadata": {
        "application/vnd.databricks.v1+cell": {
          "title": "",
          "showTitle": false,
          "inputWidgets": {},
          "nuid": "659c6ba8-62af-4a9d-9708-6f038ed8577f"
        },
        "id": "QLymIqjDKn9_",
        "outputId": "f59c3d52-c3ed-4251-ed6a-21a3e5d89cdd"
      },
      "outputs": [
        {
          "output_type": "display_data",
          "metadata": {
            "application/vnd.databricks.v1+output": {
              "datasetInfos": [],
              "data": "Summary Stats NB Model 1\nAccuracy =  68.0 %\nPrecision = 72.73 %\nRecall =  81.63 %\nF1 Score =  76.92 %\nArea under PR = 0.7204823747680891\nArea under ROC = 0.619701726844584\n",
              "removedWidgets": [],
              "addedWidgets": {},
              "metadata": {},
              "type": "ansi",
              "arguments": {}
            }
          },
          "data": {
            "text/plain": [
              "Summary Stats NB Model 1\nAccuracy =  68.0 %\nPrecision = 72.73 %\nRecall =  81.63 %\nF1 Score =  76.92 %\nArea under PR = 0.7204823747680891\nArea under ROC = 0.619701726844584\n"
            ]
          }
        }
      ],
      "execution_count": null
    },
    {
      "cell_type": "markdown",
      "source": [
        "### NB Model 2 Implementation"
      ],
      "metadata": {
        "application/vnd.databricks.v1+cell": {
          "title": "",
          "showTitle": false,
          "inputWidgets": {},
          "nuid": "6a31ad9d-353f-4af0-87d8-cefe011fcfa8"
        },
        "id": "2EOPF1E7Kn9_"
      }
    },
    {
      "cell_type": "code",
      "source": [
        "nb = NaiveBayes(smoothing=1.0, modelType=\"multinomial\")\n",
        "nbmodel = nb.fit(trainDF2)\n",
        "\n",
        "pred_nb2 = nbmodel.transform(testDF2)\n"
      ],
      "metadata": {
        "application/vnd.databricks.v1+cell": {
          "title": "",
          "showTitle": false,
          "inputWidgets": {},
          "nuid": "9ec4d6ec-add8-459e-aa41-abb0c2cb9c7a"
        },
        "id": "aPODCyw1Kn9_"
      },
      "outputs": [],
      "execution_count": null
    },
    {
      "cell_type": "markdown",
      "source": [
        "### NB Model 2 Evaluation"
      ],
      "metadata": {
        "application/vnd.databricks.v1+cell": {
          "title": "",
          "showTitle": false,
          "inputWidgets": {},
          "nuid": "a2b7e52a-634d-47da-a764-69e1a741f656"
        },
        "id": "mB6b8RAwKn9_"
      }
    },
    {
      "cell_type": "code",
      "source": [
        "#Calculate Accuracy using Binary/MulticlassMetrics\n",
        "\n",
        "#convert to RDD tuples\n",
        "pred_rdd_nb2 = pred_nb2.select('prediction','label').rdd.map(tuple)\n",
        "\n",
        "metrics_NB2 = MulticlassMetrics(pred_rdd_nb2)\n",
        "metrics_NB2B = BinaryClassificationMetrics(pred_rdd_nb2)\n",
        "#metrics.accuracy\n",
        "#print(\"Naive Bayes Accuracy (Test) Data:\", round(metrics3.accuracy*100,2),'%')\n",
        "\n",
        "# Overall statistics\n",
        "precision = metrics_NB2.precision(1.0)\n",
        "recall = metrics_NB2.recall(1.0)\n",
        "f1Score = metrics_NB2.fMeasure(1.0)\n",
        "accuracy = metrics_NB2.accuracy\n",
        "print(\"Summary Stats NB Model 2\")\n",
        "print(\"Accuracy = \", round(accuracy*100,2),'%')\n",
        "print(\"Precision =\", round(precision*100,2),'%')\n",
        "print(\"Recall = \", round(recall*100,2),'%')\n",
        "print(\"F1 Score = \", round(f1Score*100,2),'%')\n",
        "\n",
        "# Area under precision-recall curve\n",
        "print(\"Area under PR = %s\" % metrics_NB2B.areaUnderPR)\n",
        "\n",
        "# Area under ROC curve\n",
        "print(\"Area under ROC = %s\" % metrics_NB2B.areaUnderROC)"
      ],
      "metadata": {
        "application/vnd.databricks.v1+cell": {
          "title": "",
          "showTitle": false,
          "inputWidgets": {},
          "nuid": "d76ccc2f-5abf-414a-a8b2-64f8423f596d"
        },
        "id": "QIGE3VLDKn9_",
        "outputId": "98022ea1-409f-451b-da35-54b6632ee75b"
      },
      "outputs": [
        {
          "output_type": "display_data",
          "metadata": {
            "application/vnd.databricks.v1+output": {
              "datasetInfos": [],
              "data": "Summary Stats NB Model 2\nAccuracy =  84.0 %\nPrecision = 83.64 %\nRecall =  93.88 %\nF1 Score =  88.46 %\nArea under PR = 0.830760667903525\nArea under ROC = 0.7963108320251178\n",
              "removedWidgets": [],
              "addedWidgets": {},
              "metadata": {},
              "type": "ansi",
              "arguments": {}
            }
          },
          "data": {
            "text/plain": [
              "Summary Stats NB Model 2\nAccuracy =  84.0 %\nPrecision = 83.64 %\nRecall =  93.88 %\nF1 Score =  88.46 %\nArea under PR = 0.830760667903525\nArea under ROC = 0.7963108320251178\n"
            ]
          }
        }
      ],
      "execution_count": null
    },
    {
      "cell_type": "markdown",
      "source": [
        "### NB Weighted Model 2 Implementation"
      ],
      "metadata": {
        "application/vnd.databricks.v1+cell": {
          "title": "",
          "showTitle": false,
          "inputWidgets": {},
          "nuid": "1e8c18cc-529f-4d1b-a413-18e0d5b30761"
        },
        "id": "yr1VCDBxKn-A"
      }
    },
    {
      "cell_type": "code",
      "source": [
        "nb = NaiveBayes(smoothing=1.0, modelType=\"multinomial\")\n",
        "nb.setWeightCol(\"weight\")\n",
        "nbmodel = nb.fit(weightedtrainDF2)\n",
        "\n",
        "pred_nb2 = nbmodel.transform(testDF2)"
      ],
      "metadata": {
        "application/vnd.databricks.v1+cell": {
          "title": "",
          "showTitle": false,
          "inputWidgets": {},
          "nuid": "42b0f2e9-a568-4df8-a02a-d61b754a8a54"
        },
        "id": "SMRn9tvLKn-A"
      },
      "outputs": [],
      "execution_count": null
    },
    {
      "cell_type": "code",
      "source": [
        "#Calculate Accuracy using Binary/MulticlassMetrics\n",
        "\n",
        "#convert to RDD tuples\n",
        "pred_rdd_nb2 = pred_nb2.select('prediction','label').rdd.map(tuple)\n",
        "\n",
        "metrics_NB2 = MulticlassMetrics(pred_rdd_nb2)\n",
        "metrics_NB2B = BinaryClassificationMetrics(pred_rdd_nb2)\n",
        "#metrics.accuracy\n",
        "#print(\"Naive Bayes Accuracy (Test) Data:\", round(metrics3.accuracy*100,2),'%')\n",
        "\n",
        "# Overall statistics\n",
        "precision = metrics_NB2.precision(1.0)\n",
        "recall = metrics_NB2.recall(1.0)\n",
        "f1Score = metrics_NB2.fMeasure(1.0)\n",
        "accuracy = metrics_NB2.accuracy\n",
        "print(\"Summary Stats NB Model 2\")\n",
        "print(\"Accuracy = \", round(accuracy*100,2),'%')\n",
        "print(\"Precision =\", round(precision*100,2),'%')\n",
        "print(\"Recall = \", round(recall*100,2),'%')\n",
        "print(\"F1 Score = \", round(f1Score*100,2),'%')\n",
        "\n",
        "# Area under precision-recall curve\n",
        "print(\"Area under PR = %s\" % metrics_NB2B.areaUnderPR)\n",
        "\n",
        "# Area under ROC curve\n",
        "print(\"Area under ROC = %s\" % metrics_NB2B.areaUnderROC)"
      ],
      "metadata": {
        "application/vnd.databricks.v1+cell": {
          "title": "",
          "showTitle": false,
          "inputWidgets": {},
          "nuid": "1827fa4f-5376-4542-8f6b-0c87fd9094e9"
        },
        "id": "JEnGXAx4Kn-A",
        "outputId": "6a882402-5898-4123-f0bb-23505adc4cf5"
      },
      "outputs": [
        {
          "output_type": "display_data",
          "metadata": {
            "application/vnd.databricks.v1+output": {
              "datasetInfos": [],
              "data": "Summary Stats NB Model 2\nAccuracy =  88.0 %\nPrecision = 88.46 %\nRecall =  93.88 %\nF1 Score =  91.09 %\nArea under PR = 0.8775353218210361\nArea under ROC = 0.8540031397174255\n",
              "removedWidgets": [],
              "addedWidgets": {},
              "metadata": {},
              "type": "ansi",
              "arguments": {}
            }
          },
          "data": {
            "text/plain": [
              "Summary Stats NB Model 2\nAccuracy =  88.0 %\nPrecision = 88.46 %\nRecall =  93.88 %\nF1 Score =  91.09 %\nArea under PR = 0.8775353218210361\nArea under ROC = 0.8540031397174255\n"
            ]
          }
        }
      ],
      "execution_count": null
    },
    {
      "cell_type": "code",
      "source": [
        ""
      ],
      "metadata": {
        "application/vnd.databricks.v1+cell": {
          "title": "",
          "showTitle": false,
          "inputWidgets": {},
          "nuid": "11c17fea-12c4-4761-94f7-1bfb6237fe1d"
        },
        "id": "GOs6-X3QKn-A"
      },
      "outputs": [],
      "execution_count": null
    }
  ],
  "metadata": {
    "application/vnd.databricks.v1+notebook": {
      "notebookName": "Final_Project_ML_Models",
      "dashboards": [],
      "notebookMetadata": {
        "pythonIndentUnit": 4
      },
      "language": "python",
      "widgets": {},
      "notebookOrigID": 2762622346905814
    },
    "colab": {
      "name": "Final_Project_ML_Models.ipynb",
      "provenance": [],
      "collapsed_sections": []
    }
  },
  "nbformat": 4,
  "nbformat_minor": 0
}